{
 "cells": [
  {
   "cell_type": "code",
   "execution_count": 1,
   "id": "28e62d02",
   "metadata": {},
   "outputs": [],
   "source": [
    "import networkx as nx"
   ]
  },
  {
   "cell_type": "code",
   "execution_count": 87,
   "id": "6d0bd879",
   "metadata": {},
   "outputs": [
    {
     "data": {
      "text/html": [
       "<style>.container { width:100% !important; }</style>"
      ],
      "text/plain": [
       "<IPython.core.display.HTML object>"
      ]
     },
     "metadata": {},
     "output_type": "display_data"
    }
   ],
   "source": [
    "from IPython.core.display import display, HTML\n",
    "display(HTML(\"<style>.container { width:100% !important; }</style>\"))"
   ]
  },
  {
   "cell_type": "code",
   "execution_count": 2,
   "id": "09c20118",
   "metadata": {},
   "outputs": [],
   "source": [
    "import pandas as pd"
   ]
  },
  {
   "cell_type": "code",
   "execution_count": 5,
   "id": "f32b5443",
   "metadata": {},
   "outputs": [],
   "source": [
    "transacciones = pd.read_csv (r'resultadoTRM1/DF_TRANSACCIONES_cop.csv', engine='python', encoding = \"ISO-8859-1\", sep=',')"
   ]
  },
  {
   "cell_type": "code",
   "execution_count": 6,
   "id": "9219d26b",
   "metadata": {},
   "outputs": [
    {
     "data": {
      "text/html": [
       "<div>\n",
       "<style scoped>\n",
       "    .dataframe tbody tr th:only-of-type {\n",
       "        vertical-align: middle;\n",
       "    }\n",
       "\n",
       "    .dataframe tbody tr th {\n",
       "        vertical-align: top;\n",
       "    }\n",
       "\n",
       "    .dataframe thead th {\n",
       "        text-align: right;\n",
       "    }\n",
       "</style>\n",
       "<table border=\"1\" class=\"dataframe\">\n",
       "  <thead>\n",
       "    <tr style=\"text-align: right;\">\n",
       "      <th></th>\n",
       "      <th>Unnamed: 0</th>\n",
       "      <th>idComprador</th>\n",
       "      <th>idVendedor</th>\n",
       "      <th>cantidadTransaccion</th>\n",
       "      <th>precioTransaccion</th>\n",
       "      <th>fechaPulso</th>\n",
       "      <th>ciclo</th>\n",
       "      <th>importe</th>\n",
       "    </tr>\n",
       "  </thead>\n",
       "  <tbody>\n",
       "    <tr>\n",
       "      <th>0</th>\n",
       "      <td>0</td>\n",
       "      <td>34</td>\n",
       "      <td>36</td>\n",
       "      <td>5084.660801</td>\n",
       "      <td>2977.099616</td>\n",
       "      <td>36</td>\n",
       "      <td>1.0</td>\n",
       "      <td>1.513754e+07</td>\n",
       "    </tr>\n",
       "    <tr>\n",
       "      <th>1</th>\n",
       "      <td>1</td>\n",
       "      <td>8</td>\n",
       "      <td>36</td>\n",
       "      <td>125189.463496</td>\n",
       "      <td>2977.099616</td>\n",
       "      <td>36</td>\n",
       "      <td>1.0</td>\n",
       "      <td>3.727015e+08</td>\n",
       "    </tr>\n",
       "    <tr>\n",
       "      <th>2</th>\n",
       "      <td>2</td>\n",
       "      <td>30</td>\n",
       "      <td>36</td>\n",
       "      <td>92790.736065</td>\n",
       "      <td>2977.099616</td>\n",
       "      <td>36</td>\n",
       "      <td>1.0</td>\n",
       "      <td>2.762473e+08</td>\n",
       "    </tr>\n",
       "    <tr>\n",
       "      <th>3</th>\n",
       "      <td>3</td>\n",
       "      <td>40</td>\n",
       "      <td>36</td>\n",
       "      <td>4247.214614</td>\n",
       "      <td>2977.099616</td>\n",
       "      <td>36</td>\n",
       "      <td>1.0</td>\n",
       "      <td>1.264438e+07</td>\n",
       "    </tr>\n",
       "    <tr>\n",
       "      <th>4</th>\n",
       "      <td>4</td>\n",
       "      <td>93</td>\n",
       "      <td>36</td>\n",
       "      <td>5752.684497</td>\n",
       "      <td>2977.099616</td>\n",
       "      <td>36</td>\n",
       "      <td>1.0</td>\n",
       "      <td>1.712631e+07</td>\n",
       "    </tr>\n",
       "    <tr>\n",
       "      <th>...</th>\n",
       "      <td>...</td>\n",
       "      <td>...</td>\n",
       "      <td>...</td>\n",
       "      <td>...</td>\n",
       "      <td>...</td>\n",
       "      <td>...</td>\n",
       "      <td>...</td>\n",
       "      <td>...</td>\n",
       "    </tr>\n",
       "    <tr>\n",
       "      <th>736746</th>\n",
       "      <td>736746</td>\n",
       "      <td>15729</td>\n",
       "      <td>584</td>\n",
       "      <td>71141.749337</td>\n",
       "      <td>1929.469029</td>\n",
       "      <td>157</td>\n",
       "      <td>4.0</td>\n",
       "      <td>1.372658e+08</td>\n",
       "    </tr>\n",
       "    <tr>\n",
       "      <th>736747</th>\n",
       "      <td>736747</td>\n",
       "      <td>14230</td>\n",
       "      <td>584</td>\n",
       "      <td>2667.510608</td>\n",
       "      <td>1929.469029</td>\n",
       "      <td>157</td>\n",
       "      <td>4.0</td>\n",
       "      <td>5.146879e+06</td>\n",
       "    </tr>\n",
       "    <tr>\n",
       "      <th>736748</th>\n",
       "      <td>736748</td>\n",
       "      <td>2562</td>\n",
       "      <td>584</td>\n",
       "      <td>12015.302668</td>\n",
       "      <td>1929.469029</td>\n",
       "      <td>157</td>\n",
       "      <td>4.0</td>\n",
       "      <td>2.318315e+07</td>\n",
       "    </tr>\n",
       "    <tr>\n",
       "      <th>736749</th>\n",
       "      <td>736749</td>\n",
       "      <td>14262</td>\n",
       "      <td>584</td>\n",
       "      <td>438166.021326</td>\n",
       "      <td>1929.469029</td>\n",
       "      <td>157</td>\n",
       "      <td>4.0</td>\n",
       "      <td>8.454278e+08</td>\n",
       "    </tr>\n",
       "    <tr>\n",
       "      <th>736750</th>\n",
       "      <td>736750</td>\n",
       "      <td>14541</td>\n",
       "      <td>584</td>\n",
       "      <td>68946.362913</td>\n",
       "      <td>1929.469029</td>\n",
       "      <td>157</td>\n",
       "      <td>4.0</td>\n",
       "      <td>1.330299e+08</td>\n",
       "    </tr>\n",
       "  </tbody>\n",
       "</table>\n",
       "<p>736751 rows × 8 columns</p>\n",
       "</div>"
      ],
      "text/plain": [
       "        Unnamed: 0  idComprador  idVendedor  cantidadTransaccion  \\\n",
       "0                0           34          36          5084.660801   \n",
       "1                1            8          36        125189.463496   \n",
       "2                2           30          36         92790.736065   \n",
       "3                3           40          36          4247.214614   \n",
       "4                4           93          36          5752.684497   \n",
       "...            ...          ...         ...                  ...   \n",
       "736746      736746        15729         584         71141.749337   \n",
       "736747      736747        14230         584          2667.510608   \n",
       "736748      736748         2562         584         12015.302668   \n",
       "736749      736749        14262         584        438166.021326   \n",
       "736750      736750        14541         584         68946.362913   \n",
       "\n",
       "        precioTransaccion  fechaPulso  ciclo       importe  \n",
       "0             2977.099616          36    1.0  1.513754e+07  \n",
       "1             2977.099616          36    1.0  3.727015e+08  \n",
       "2             2977.099616          36    1.0  2.762473e+08  \n",
       "3             2977.099616          36    1.0  1.264438e+07  \n",
       "4             2977.099616          36    1.0  1.712631e+07  \n",
       "...                   ...         ...    ...           ...  \n",
       "736746        1929.469029         157    4.0  1.372658e+08  \n",
       "736747        1929.469029         157    4.0  5.146879e+06  \n",
       "736748        1929.469029         157    4.0  2.318315e+07  \n",
       "736749        1929.469029         157    4.0  8.454278e+08  \n",
       "736750        1929.469029         157    4.0  1.330299e+08  \n",
       "\n",
       "[736751 rows x 8 columns]"
      ]
     },
     "execution_count": 6,
     "metadata": {},
     "output_type": "execute_result"
    }
   ],
   "source": [
    "transacciones"
   ]
  },
  {
   "cell_type": "code",
   "execution_count": 11,
   "id": "802953e7",
   "metadata": {},
   "outputs": [],
   "source": [
    "res_graf=transacciones.groupby(['idComprador','idVendedor'])[['fechaPulso']].count().reset_index()"
   ]
  },
  {
   "cell_type": "code",
   "execution_count": 12,
   "id": "74c08799",
   "metadata": {},
   "outputs": [
    {
     "data": {
      "text/html": [
       "<div>\n",
       "<style scoped>\n",
       "    .dataframe tbody tr th:only-of-type {\n",
       "        vertical-align: middle;\n",
       "    }\n",
       "\n",
       "    .dataframe tbody tr th {\n",
       "        vertical-align: top;\n",
       "    }\n",
       "\n",
       "    .dataframe thead th {\n",
       "        text-align: right;\n",
       "    }\n",
       "</style>\n",
       "<table border=\"1\" class=\"dataframe\">\n",
       "  <thead>\n",
       "    <tr style=\"text-align: right;\">\n",
       "      <th></th>\n",
       "      <th>idComprador</th>\n",
       "      <th>idVendedor</th>\n",
       "      <th>fechaPulso</th>\n",
       "    </tr>\n",
       "  </thead>\n",
       "  <tbody>\n",
       "    <tr>\n",
       "      <th>0</th>\n",
       "      <td>2</td>\n",
       "      <td>36</td>\n",
       "      <td>1</td>\n",
       "    </tr>\n",
       "    <tr>\n",
       "      <th>1</th>\n",
       "      <td>4</td>\n",
       "      <td>7</td>\n",
       "      <td>1</td>\n",
       "    </tr>\n",
       "    <tr>\n",
       "      <th>2</th>\n",
       "      <td>4</td>\n",
       "      <td>89</td>\n",
       "      <td>1</td>\n",
       "    </tr>\n",
       "    <tr>\n",
       "      <th>3</th>\n",
       "      <td>5</td>\n",
       "      <td>23</td>\n",
       "      <td>2</td>\n",
       "    </tr>\n",
       "    <tr>\n",
       "      <th>4</th>\n",
       "      <td>5</td>\n",
       "      <td>35</td>\n",
       "      <td>1</td>\n",
       "    </tr>\n",
       "    <tr>\n",
       "      <th>...</th>\n",
       "      <td>...</td>\n",
       "      <td>...</td>\n",
       "      <td>...</td>\n",
       "    </tr>\n",
       "    <tr>\n",
       "      <th>15232</th>\n",
       "      <td>19767</td>\n",
       "      <td>584</td>\n",
       "      <td>1</td>\n",
       "    </tr>\n",
       "    <tr>\n",
       "      <th>15233</th>\n",
       "      <td>19769</td>\n",
       "      <td>584</td>\n",
       "      <td>1</td>\n",
       "    </tr>\n",
       "    <tr>\n",
       "      <th>15234</th>\n",
       "      <td>19770</td>\n",
       "      <td>584</td>\n",
       "      <td>1</td>\n",
       "    </tr>\n",
       "    <tr>\n",
       "      <th>15235</th>\n",
       "      <td>19779</td>\n",
       "      <td>584</td>\n",
       "      <td>1</td>\n",
       "    </tr>\n",
       "    <tr>\n",
       "      <th>15236</th>\n",
       "      <td>19784</td>\n",
       "      <td>584</td>\n",
       "      <td>1</td>\n",
       "    </tr>\n",
       "  </tbody>\n",
       "</table>\n",
       "<p>15237 rows × 3 columns</p>\n",
       "</div>"
      ],
      "text/plain": [
       "       idComprador  idVendedor  fechaPulso\n",
       "0                2          36           1\n",
       "1                4           7           1\n",
       "2                4          89           1\n",
       "3                5          23           2\n",
       "4                5          35           1\n",
       "...            ...         ...         ...\n",
       "15232        19767         584           1\n",
       "15233        19769         584           1\n",
       "15234        19770         584           1\n",
       "15235        19779         584           1\n",
       "15236        19784         584           1\n",
       "\n",
       "[15237 rows x 3 columns]"
      ]
     },
     "execution_count": 12,
     "metadata": {},
     "output_type": "execute_result"
    }
   ],
   "source": [
    "res_graf"
   ]
  },
  {
   "cell_type": "code",
   "execution_count": 36,
   "id": "404974a9",
   "metadata": {},
   "outputs": [
    {
     "data": {
      "text/plain": [
       "count    15237.000000\n",
       "mean        48.352760\n",
       "std         53.815308\n",
       "min          1.000000\n",
       "25%          6.000000\n",
       "50%         30.000000\n",
       "75%         71.000000\n",
       "max        274.000000\n",
       "Name: fechaPulso, dtype: float64"
      ]
     },
     "execution_count": 36,
     "metadata": {},
     "output_type": "execute_result"
    }
   ],
   "source": [
    "res_graf['fechaPulso'].describe()"
   ]
  },
  {
   "cell_type": "code",
   "execution_count": 34,
   "id": "d6c1fb70",
   "metadata": {},
   "outputs": [],
   "source": [
    "#res_graf_val=res_graf[res_graf['fechaPulso']>100]\n",
    "res_graf_val=res_graf"
   ]
  },
  {
   "cell_type": "code",
   "execution_count": 37,
   "id": "d33f4d04",
   "metadata": {},
   "outputs": [],
   "source": [
    "G=nx.from_pandas_edgelist(res_graf_val, source='idVendedor',target='idComprador', edge_attr='fechaPulso')"
   ]
  },
  {
   "cell_type": "code",
   "execution_count": 1,
   "id": "c8154fdb",
   "metadata": {
    "scrolled": true
   },
   "outputs": [],
   "source": [
    "##nx.draw(G)"
   ]
  },
  {
   "cell_type": "code",
   "execution_count": 28,
   "id": "1b5310c8",
   "metadata": {},
   "outputs": [],
   "source": [
    "import matplotlib.pyplot as plt"
   ]
  },
  {
   "cell_type": "code",
   "execution_count": 48,
   "id": "8069d138",
   "metadata": {},
   "outputs": [],
   "source": [
    "res_graf_val=res_graf[res_graf['fechaPulso']>100]"
   ]
  },
  {
   "cell_type": "code",
   "execution_count": 49,
   "id": "50231ed6",
   "metadata": {},
   "outputs": [],
   "source": [
    "G=nx.from_pandas_edgelist(res_graf_val, source='idVendedor',target='idComprador', edge_attr='fechaPulso')"
   ]
  },
  {
   "cell_type": "code",
   "execution_count": 2,
   "id": "71376e44",
   "metadata": {
    "scrolled": true
   },
   "outputs": [],
   "source": [
    "##plt.figure(1,figsize=(200,200))\n",
    "##nx.draw(G,node_size=1,font_size=8)"
   ]
  },
  {
   "cell_type": "markdown",
   "id": "1caa1cb9",
   "metadata": {},
   "source": [
    "#### Vendores VS compradores"
   ]
  },
  {
   "cell_type": "code",
   "execution_count": 3,
   "id": "c2afa760",
   "metadata": {},
   "outputs": [],
   "source": [
    "estadoAgentes = pd.read_csv (r'resultadoTRM2/df_estadoAgentes.csv', engine='python', encoding = \"ISO-8859-1\", sep=',')"
   ]
  },
  {
   "cell_type": "code",
   "execution_count": 4,
   "id": "54d87fe7",
   "metadata": {
    "scrolled": true
   },
   "outputs": [
    {
     "data": {
      "text/html": [
       "<div>\n",
       "<style scoped>\n",
       "    .dataframe tbody tr th:only-of-type {\n",
       "        vertical-align: middle;\n",
       "    }\n",
       "\n",
       "    .dataframe tbody tr th {\n",
       "        vertical-align: top;\n",
       "    }\n",
       "\n",
       "    .dataframe thead th {\n",
       "        text-align: right;\n",
       "    }\n",
       "</style>\n",
       "<table border=\"1\" class=\"dataframe\">\n",
       "  <thead>\n",
       "    <tr style=\"text-align: right;\">\n",
       "      <th></th>\n",
       "      <th>Unnamed: 0</th>\n",
       "      <th>id</th>\n",
       "      <th>TIPO</th>\n",
       "      <th>edad</th>\n",
       "      <th>capital</th>\n",
       "      <th>stockProducto</th>\n",
       "      <th>val_stock</th>\n",
       "      <th>val_empresa</th>\n",
       "      <th>pulso</th>\n",
       "      <th>ciclo</th>\n",
       "    </tr>\n",
       "  </thead>\n",
       "  <tbody>\n",
       "    <tr>\n",
       "      <th>0</th>\n",
       "      <td>0</td>\n",
       "      <td>3</td>\n",
       "      <td>Comprador</td>\n",
       "      <td>0</td>\n",
       "      <td>3.254783e+08</td>\n",
       "      <td>36846.000000</td>\n",
       "      <td>1.421725e+08</td>\n",
       "      <td>4.627407e+16</td>\n",
       "      <td>35</td>\n",
       "      <td>1</td>\n",
       "    </tr>\n",
       "    <tr>\n",
       "      <th>1</th>\n",
       "      <td>1</td>\n",
       "      <td>4</td>\n",
       "      <td>Comprador</td>\n",
       "      <td>0</td>\n",
       "      <td>5.302443e+08</td>\n",
       "      <td>318351.000000</td>\n",
       "      <td>1.228376e+09</td>\n",
       "      <td>6.513396e+17</td>\n",
       "      <td>35</td>\n",
       "      <td>1</td>\n",
       "    </tr>\n",
       "    <tr>\n",
       "      <th>2</th>\n",
       "      <td>2</td>\n",
       "      <td>5</td>\n",
       "      <td>Comprador</td>\n",
       "      <td>0</td>\n",
       "      <td>9.301550e+07</td>\n",
       "      <td>407056.000000</td>\n",
       "      <td>1.570650e+09</td>\n",
       "      <td>1.460948e+17</td>\n",
       "      <td>35</td>\n",
       "      <td>1</td>\n",
       "    </tr>\n",
       "    <tr>\n",
       "      <th>3</th>\n",
       "      <td>3</td>\n",
       "      <td>6</td>\n",
       "      <td>Comprador</td>\n",
       "      <td>0</td>\n",
       "      <td>5.728199e+08</td>\n",
       "      <td>580999.000000</td>\n",
       "      <td>2.241820e+09</td>\n",
       "      <td>1.284159e+18</td>\n",
       "      <td>35</td>\n",
       "      <td>1</td>\n",
       "    </tr>\n",
       "    <tr>\n",
       "      <th>4</th>\n",
       "      <td>4</td>\n",
       "      <td>7</td>\n",
       "      <td>Comprador</td>\n",
       "      <td>0</td>\n",
       "      <td>6.228840e+08</td>\n",
       "      <td>668409.000000</td>\n",
       "      <td>2.579096e+09</td>\n",
       "      <td>1.606478e+18</td>\n",
       "      <td>35</td>\n",
       "      <td>1</td>\n",
       "    </tr>\n",
       "    <tr>\n",
       "      <th>...</th>\n",
       "      <td>...</td>\n",
       "      <td>...</td>\n",
       "      <td>...</td>\n",
       "      <td>...</td>\n",
       "      <td>...</td>\n",
       "      <td>...</td>\n",
       "      <td>...</td>\n",
       "      <td>...</td>\n",
       "      <td>...</td>\n",
       "      <td>...</td>\n",
       "    </tr>\n",
       "    <tr>\n",
       "      <th>1003856</th>\n",
       "      <td>255</td>\n",
       "      <td>23537</td>\n",
       "      <td>Vendedor</td>\n",
       "      <td>1</td>\n",
       "      <td>2.962219e+08</td>\n",
       "      <td>214197.739289</td>\n",
       "      <td>6.112911e+08</td>\n",
       "      <td>9.075130e+08</td>\n",
       "      <td>230</td>\n",
       "      <td>3</td>\n",
       "    </tr>\n",
       "    <tr>\n",
       "      <th>1003857</th>\n",
       "      <td>256</td>\n",
       "      <td>23541</td>\n",
       "      <td>Vendedor</td>\n",
       "      <td>1</td>\n",
       "      <td>1.231781e+07</td>\n",
       "      <td>189765.479287</td>\n",
       "      <td>5.415647e+08</td>\n",
       "      <td>5.538826e+08</td>\n",
       "      <td>230</td>\n",
       "      <td>3</td>\n",
       "    </tr>\n",
       "    <tr>\n",
       "      <th>1003858</th>\n",
       "      <td>257</td>\n",
       "      <td>23542</td>\n",
       "      <td>Vendedor</td>\n",
       "      <td>1</td>\n",
       "      <td>1.739723e+08</td>\n",
       "      <td>719600.695690</td>\n",
       "      <td>2.053642e+09</td>\n",
       "      <td>2.227614e+09</td>\n",
       "      <td>230</td>\n",
       "      <td>3</td>\n",
       "    </tr>\n",
       "    <tr>\n",
       "      <th>1003859</th>\n",
       "      <td>258</td>\n",
       "      <td>23545</td>\n",
       "      <td>Vendedor</td>\n",
       "      <td>1</td>\n",
       "      <td>2.192640e+08</td>\n",
       "      <td>695238.185117</td>\n",
       "      <td>1.984115e+09</td>\n",
       "      <td>2.203379e+09</td>\n",
       "      <td>230</td>\n",
       "      <td>3</td>\n",
       "    </tr>\n",
       "    <tr>\n",
       "      <th>1003860</th>\n",
       "      <td>259</td>\n",
       "      <td>23547</td>\n",
       "      <td>Vendedor</td>\n",
       "      <td>1</td>\n",
       "      <td>1.452746e+06</td>\n",
       "      <td>311212.773489</td>\n",
       "      <td>8.881587e+08</td>\n",
       "      <td>8.896115e+08</td>\n",
       "      <td>230</td>\n",
       "      <td>3</td>\n",
       "    </tr>\n",
       "  </tbody>\n",
       "</table>\n",
       "<p>1003861 rows × 10 columns</p>\n",
       "</div>"
      ],
      "text/plain": [
       "         Unnamed: 0     id       TIPO  edad       capital  stockProducto  \\\n",
       "0                 0      3  Comprador     0  3.254783e+08   36846.000000   \n",
       "1                 1      4  Comprador     0  5.302443e+08  318351.000000   \n",
       "2                 2      5  Comprador     0  9.301550e+07  407056.000000   \n",
       "3                 3      6  Comprador     0  5.728199e+08  580999.000000   \n",
       "4                 4      7  Comprador     0  6.228840e+08  668409.000000   \n",
       "...             ...    ...        ...   ...           ...            ...   \n",
       "1003856         255  23537   Vendedor     1  2.962219e+08  214197.739289   \n",
       "1003857         256  23541   Vendedor     1  1.231781e+07  189765.479287   \n",
       "1003858         257  23542   Vendedor     1  1.739723e+08  719600.695690   \n",
       "1003859         258  23545   Vendedor     1  2.192640e+08  695238.185117   \n",
       "1003860         259  23547   Vendedor     1  1.452746e+06  311212.773489   \n",
       "\n",
       "            val_stock   val_empresa  pulso  ciclo  \n",
       "0        1.421725e+08  4.627407e+16     35      1  \n",
       "1        1.228376e+09  6.513396e+17     35      1  \n",
       "2        1.570650e+09  1.460948e+17     35      1  \n",
       "3        2.241820e+09  1.284159e+18     35      1  \n",
       "4        2.579096e+09  1.606478e+18     35      1  \n",
       "...               ...           ...    ...    ...  \n",
       "1003856  6.112911e+08  9.075130e+08    230      3  \n",
       "1003857  5.415647e+08  5.538826e+08    230      3  \n",
       "1003858  2.053642e+09  2.227614e+09    230      3  \n",
       "1003859  1.984115e+09  2.203379e+09    230      3  \n",
       "1003860  8.881587e+08  8.896115e+08    230      3  \n",
       "\n",
       "[1003861 rows x 10 columns]"
      ]
     },
     "execution_count": 4,
     "metadata": {},
     "output_type": "execute_result"
    }
   ],
   "source": [
    "estadoAgentes"
   ]
  },
  {
   "cell_type": "code",
   "execution_count": 10,
   "id": "1ba66a1b",
   "metadata": {},
   "outputs": [],
   "source": [
    "estadoAgentes=estadoAgentes[estadoAgentes['ciclo']==1]"
   ]
  },
  {
   "cell_type": "code",
   "execution_count": 11,
   "id": "f7a8a5ed",
   "metadata": {},
   "outputs": [
    {
     "data": {
      "text/plain": [
       "<AxesSubplot:xlabel='pulso'>"
      ]
     },
     "execution_count": 11,
     "metadata": {},
     "output_type": "execute_result"
    },
    {
     "data": {
      "image/png": "[encoded data removed]",
      "text/plain": [
       "<Figure size 432x288 with 1 Axes>"
      ]
     },
     "metadata": {
      "needs_background": "light"
     },
     "output_type": "display_data"
    }
   ],
   "source": [
    "pd.crosstab(estadoAgentes['pulso'],estadoAgentes['TIPO']).plot()"
   ]
  },
  {
   "cell_type": "markdown",
   "id": "58a2e0bd",
   "metadata": {},
   "source": [
    "### Sistema sin rol"
   ]
  },
  {
   "cell_type": "code",
   "execution_count": 12,
   "id": "5d941e1d",
   "metadata": {},
   "outputs": [],
   "source": [
    "estadoAgentes = pd.read_csv (r'resultadoTRM3/df_estadoAgentes.csv', engine='python', encoding = \"ISO-8859-1\", sep=',')"
   ]
  },
  {
   "cell_type": "code",
   "execution_count": 13,
   "id": "ec31f5ab",
   "metadata": {},
   "outputs": [
    {
     "data": {
      "text/plain": [
       "<AxesSubplot:xlabel='pulso'>"
      ]
     },
     "execution_count": 13,
     "metadata": {},
     "output_type": "execute_result"
    },
    {
     "data": {
      "image/png": "[encoded data removed]",
      "text/plain": [
       "<Figure size 432x288 with 1 Axes>"
      ]
     },
     "metadata": {
      "needs_background": "light"
     },
     "output_type": "display_data"
    }
   ],
   "source": [
    "pd.crosstab(estadoAgentes['pulso'],estadoAgentes['TIPO']).plot()"
   ]
  },
  {
   "cell_type": "code",
   "execution_count": 14,
   "id": "e47eed12",
   "metadata": {},
   "outputs": [],
   "source": [
    "estadoAgentes=estadoAgentes[estadoAgentes['ciclo']==1]"
   ]
  },
  {
   "cell_type": "code",
   "execution_count": 15,
   "id": "08749395",
   "metadata": {},
   "outputs": [
    {
     "data": {
      "text/plain": [
       "<AxesSubplot:xlabel='pulso'>"
      ]
     },
     "execution_count": 15,
     "metadata": {},
     "output_type": "execute_result"
    },
    {
     "data": {
      "image/png": "[encoded data removed]",
      "text/plain": [
       "<Figure size 432x288 with 1 Axes>"
      ]
     },
     "metadata": {
      "needs_background": "light"
     },
     "output_type": "display_data"
    }
   ],
   "source": [
    "pd.crosstab(estadoAgentes['pulso'],estadoAgentes['TIPO']).plot()"
   ]
  },
  {
   "cell_type": "code",
   "execution_count": 16,
   "id": "261f528a",
   "metadata": {},
   "outputs": [],
   "source": [
    "estadoAgentes=estadoAgentes[estadoAgentes['TIPO']!='indefinido']"
   ]
  },
  {
   "cell_type": "code",
   "execution_count": 17,
   "id": "cc2af9bc",
   "metadata": {},
   "outputs": [
    {
     "data": {
      "text/plain": [
       "<AxesSubplot:xlabel='pulso'>"
      ]
     },
     "execution_count": 17,
     "metadata": {},
     "output_type": "execute_result"
    },
    {
     "data": {
      "image/png": "[encoded data removed]",
      "text/plain": [
       "<Figure size 432x288 with 1 Axes>"
      ]
     },
     "metadata": {
      "needs_background": "light"
     },
     "output_type": "display_data"
    }
   ],
   "source": [
    "pd.crosstab(estadoAgentes['pulso'],estadoAgentes['TIPO']).plot()"
   ]
  },
  {
   "cell_type": "markdown",
   "id": "2294115e",
   "metadata": {},
   "source": [
    "### Fuentes de información más leidas"
   ]
  },
  {
   "cell_type": "code",
   "execution_count": null,
   "id": "217509b8",
   "metadata": {},
   "outputs": [],
   "source": []
  },
  {
   "cell_type": "markdown",
   "id": "edff465c",
   "metadata": {},
   "source": [
    "### Sistema multiagente 2"
   ]
  },
  {
   "cell_type": "code",
   "execution_count": null,
   "id": "f1854db5",
   "metadata": {},
   "outputs": [],
   "source": []
  },
  {
   "cell_type": "code",
   "execution_count": 66,
   "id": "2f63c31c",
   "metadata": {},
   "outputs": [],
   "source": [
    "transacciones = pd.read_csv (r'resultadoTRM3/DF_TRANSACCIONES_cop.csv', engine='python', encoding = \"ISO-8859-1\", sep=',')"
   ]
  },
  {
   "cell_type": "code",
   "execution_count": 67,
   "id": "f62a07ff",
   "metadata": {},
   "outputs": [
    {
     "data": {
      "text/html": [
       "<div>\n",
       "<style scoped>\n",
       "    .dataframe tbody tr th:only-of-type {\n",
       "        vertical-align: middle;\n",
       "    }\n",
       "\n",
       "    .dataframe tbody tr th {\n",
       "        vertical-align: top;\n",
       "    }\n",
       "\n",
       "    .dataframe thead th {\n",
       "        text-align: right;\n",
       "    }\n",
       "</style>\n",
       "<table border=\"1\" class=\"dataframe\">\n",
       "  <thead>\n",
       "    <tr style=\"text-align: right;\">\n",
       "      <th></th>\n",
       "      <th>Unnamed: 0</th>\n",
       "      <th>idComprador</th>\n",
       "      <th>idVendedor</th>\n",
       "      <th>cantidadTransaccion</th>\n",
       "      <th>precioTransaccion</th>\n",
       "      <th>fechaPulso</th>\n",
       "      <th>ciclo</th>\n",
       "      <th>importe</th>\n",
       "    </tr>\n",
       "  </thead>\n",
       "  <tbody>\n",
       "    <tr>\n",
       "      <th>0</th>\n",
       "      <td>0</td>\n",
       "      <td>77</td>\n",
       "      <td>29</td>\n",
       "      <td>1.834495e+04</td>\n",
       "      <td>3858.560000</td>\n",
       "      <td>36</td>\n",
       "      <td>1.0</td>\n",
       "      <td>7.078511e+07</td>\n",
       "    </tr>\n",
       "    <tr>\n",
       "      <th>1</th>\n",
       "      <td>1</td>\n",
       "      <td>90</td>\n",
       "      <td>29</td>\n",
       "      <td>7.198436e+03</td>\n",
       "      <td>3858.560000</td>\n",
       "      <td>36</td>\n",
       "      <td>1.0</td>\n",
       "      <td>2.777560e+07</td>\n",
       "    </tr>\n",
       "    <tr>\n",
       "      <th>2</th>\n",
       "      <td>2</td>\n",
       "      <td>14</td>\n",
       "      <td>29</td>\n",
       "      <td>1.641607e+03</td>\n",
       "      <td>3858.560000</td>\n",
       "      <td>36</td>\n",
       "      <td>1.0</td>\n",
       "      <td>6.334240e+06</td>\n",
       "    </tr>\n",
       "    <tr>\n",
       "      <th>3</th>\n",
       "      <td>3</td>\n",
       "      <td>43</td>\n",
       "      <td>29</td>\n",
       "      <td>4.116574e+04</td>\n",
       "      <td>3858.560000</td>\n",
       "      <td>36</td>\n",
       "      <td>1.0</td>\n",
       "      <td>1.588405e+08</td>\n",
       "    </tr>\n",
       "    <tr>\n",
       "      <th>4</th>\n",
       "      <td>4</td>\n",
       "      <td>58</td>\n",
       "      <td>29</td>\n",
       "      <td>9.271554e+03</td>\n",
       "      <td>3858.560000</td>\n",
       "      <td>36</td>\n",
       "      <td>1.0</td>\n",
       "      <td>3.577485e+07</td>\n",
       "    </tr>\n",
       "    <tr>\n",
       "      <th>...</th>\n",
       "      <td>...</td>\n",
       "      <td>...</td>\n",
       "      <td>...</td>\n",
       "      <td>...</td>\n",
       "      <td>...</td>\n",
       "      <td>...</td>\n",
       "      <td>...</td>\n",
       "      <td>...</td>\n",
       "    </tr>\n",
       "    <tr>\n",
       "      <th>32768</th>\n",
       "      <td>32768</td>\n",
       "      <td>2649</td>\n",
       "      <td>515</td>\n",
       "      <td>3.869017e-06</td>\n",
       "      <td>7473.932631</td>\n",
       "      <td>230</td>\n",
       "      <td>1.0</td>\n",
       "      <td>2.891677e-02</td>\n",
       "    </tr>\n",
       "    <tr>\n",
       "      <th>32769</th>\n",
       "      <td>32769</td>\n",
       "      <td>2667</td>\n",
       "      <td>2468</td>\n",
       "      <td>9.236649e-11</td>\n",
       "      <td>7473.932631</td>\n",
       "      <td>230</td>\n",
       "      <td>1.0</td>\n",
       "      <td>6.903409e-07</td>\n",
       "    </tr>\n",
       "    <tr>\n",
       "      <th>32770</th>\n",
       "      <td>32770</td>\n",
       "      <td>3529</td>\n",
       "      <td>1483</td>\n",
       "      <td>1.117330e+01</td>\n",
       "      <td>7473.932631</td>\n",
       "      <td>230</td>\n",
       "      <td>1.0</td>\n",
       "      <td>8.350847e+04</td>\n",
       "    </tr>\n",
       "    <tr>\n",
       "      <th>32771</th>\n",
       "      <td>32771</td>\n",
       "      <td>3201</td>\n",
       "      <td>3587</td>\n",
       "      <td>1.853594e-15</td>\n",
       "      <td>7473.932631</td>\n",
       "      <td>230</td>\n",
       "      <td>1.0</td>\n",
       "      <td>1.385364e-11</td>\n",
       "    </tr>\n",
       "    <tr>\n",
       "      <th>32772</th>\n",
       "      <td>32772</td>\n",
       "      <td>980</td>\n",
       "      <td>1769</td>\n",
       "      <td>1.481620e+01</td>\n",
       "      <td>7473.932631</td>\n",
       "      <td>230</td>\n",
       "      <td>1.0</td>\n",
       "      <td>1.107353e+05</td>\n",
       "    </tr>\n",
       "  </tbody>\n",
       "</table>\n",
       "<p>32773 rows × 8 columns</p>\n",
       "</div>"
      ],
      "text/plain": [
       "       Unnamed: 0  idComprador  idVendedor  cantidadTransaccion  \\\n",
       "0               0           77          29         1.834495e+04   \n",
       "1               1           90          29         7.198436e+03   \n",
       "2               2           14          29         1.641607e+03   \n",
       "3               3           43          29         4.116574e+04   \n",
       "4               4           58          29         9.271554e+03   \n",
       "...           ...          ...         ...                  ...   \n",
       "32768       32768         2649         515         3.869017e-06   \n",
       "32769       32769         2667        2468         9.236649e-11   \n",
       "32770       32770         3529        1483         1.117330e+01   \n",
       "32771       32771         3201        3587         1.853594e-15   \n",
       "32772       32772          980        1769         1.481620e+01   \n",
       "\n",
       "       precioTransaccion  fechaPulso  ciclo       importe  \n",
       "0            3858.560000          36    1.0  7.078511e+07  \n",
       "1            3858.560000          36    1.0  2.777560e+07  \n",
       "2            3858.560000          36    1.0  6.334240e+06  \n",
       "3            3858.560000          36    1.0  1.588405e+08  \n",
       "4            3858.560000          36    1.0  3.577485e+07  \n",
       "...                  ...         ...    ...           ...  \n",
       "32768        7473.932631         230    1.0  2.891677e-02  \n",
       "32769        7473.932631         230    1.0  6.903409e-07  \n",
       "32770        7473.932631         230    1.0  8.350847e+04  \n",
       "32771        7473.932631         230    1.0  1.385364e-11  \n",
       "32772        7473.932631         230    1.0  1.107353e+05  \n",
       "\n",
       "[32773 rows x 8 columns]"
      ]
     },
     "execution_count": 67,
     "metadata": {},
     "output_type": "execute_result"
    }
   ],
   "source": [
    "transacciones"
   ]
  },
  {
   "cell_type": "code",
   "execution_count": 63,
   "id": "d2e8d4c0",
   "metadata": {},
   "outputs": [],
   "source": [
    "res_graf=transacciones.groupby(['idComprador','idVendedor'])[['fechaPulso']].count().reset_index()"
   ]
  },
  {
   "cell_type": "code",
   "execution_count": 64,
   "id": "038dddd6",
   "metadata": {},
   "outputs": [
    {
     "data": {
      "text/html": [
       "<div>\n",
       "<style scoped>\n",
       "    .dataframe tbody tr th:only-of-type {\n",
       "        vertical-align: middle;\n",
       "    }\n",
       "\n",
       "    .dataframe tbody tr th {\n",
       "        vertical-align: top;\n",
       "    }\n",
       "\n",
       "    .dataframe thead th {\n",
       "        text-align: right;\n",
       "    }\n",
       "</style>\n",
       "<table border=\"1\" class=\"dataframe\">\n",
       "  <thead>\n",
       "    <tr style=\"text-align: right;\">\n",
       "      <th></th>\n",
       "      <th>idComprador</th>\n",
       "      <th>idVendedor</th>\n",
       "      <th>fechaPulso</th>\n",
       "    </tr>\n",
       "  </thead>\n",
       "  <tbody>\n",
       "    <tr>\n",
       "      <th>0</th>\n",
       "      <td>10</td>\n",
       "      <td>8</td>\n",
       "      <td>1</td>\n",
       "    </tr>\n",
       "    <tr>\n",
       "      <th>1</th>\n",
       "      <td>10</td>\n",
       "      <td>12</td>\n",
       "      <td>1</td>\n",
       "    </tr>\n",
       "    <tr>\n",
       "      <th>2</th>\n",
       "      <td>10</td>\n",
       "      <td>31</td>\n",
       "      <td>1</td>\n",
       "    </tr>\n",
       "    <tr>\n",
       "      <th>3</th>\n",
       "      <td>10</td>\n",
       "      <td>78</td>\n",
       "      <td>1</td>\n",
       "    </tr>\n",
       "    <tr>\n",
       "      <th>4</th>\n",
       "      <td>10</td>\n",
       "      <td>130</td>\n",
       "      <td>1</td>\n",
       "    </tr>\n",
       "    <tr>\n",
       "      <th>...</th>\n",
       "      <td>...</td>\n",
       "      <td>...</td>\n",
       "      <td>...</td>\n",
       "    </tr>\n",
       "    <tr>\n",
       "      <th>30033</th>\n",
       "      <td>3957</td>\n",
       "      <td>3774</td>\n",
       "      <td>1</td>\n",
       "    </tr>\n",
       "    <tr>\n",
       "      <th>30034</th>\n",
       "      <td>3958</td>\n",
       "      <td>3830</td>\n",
       "      <td>1</td>\n",
       "    </tr>\n",
       "    <tr>\n",
       "      <th>30035</th>\n",
       "      <td>3966</td>\n",
       "      <td>3211</td>\n",
       "      <td>1</td>\n",
       "    </tr>\n",
       "    <tr>\n",
       "      <th>30036</th>\n",
       "      <td>3970</td>\n",
       "      <td>3940</td>\n",
       "      <td>1</td>\n",
       "    </tr>\n",
       "    <tr>\n",
       "      <th>30037</th>\n",
       "      <td>3971</td>\n",
       "      <td>3506</td>\n",
       "      <td>1</td>\n",
       "    </tr>\n",
       "  </tbody>\n",
       "</table>\n",
       "<p>30038 rows × 3 columns</p>\n",
       "</div>"
      ],
      "text/plain": [
       "       idComprador  idVendedor  fechaPulso\n",
       "0               10           8           1\n",
       "1               10          12           1\n",
       "2               10          31           1\n",
       "3               10          78           1\n",
       "4               10         130           1\n",
       "...            ...         ...         ...\n",
       "30033         3957        3774           1\n",
       "30034         3958        3830           1\n",
       "30035         3966        3211           1\n",
       "30036         3970        3940           1\n",
       "30037         3971        3506           1\n",
       "\n",
       "[30038 rows x 3 columns]"
      ]
     },
     "execution_count": 64,
     "metadata": {},
     "output_type": "execute_result"
    }
   ],
   "source": [
    "res_graf"
   ]
  },
  {
   "cell_type": "code",
   "execution_count": 65,
   "id": "db221028",
   "metadata": {},
   "outputs": [
    {
     "data": {
      "text/plain": [
       "count    30038.000000\n",
       "mean         1.091051\n",
       "std          0.341451\n",
       "min          1.000000\n",
       "25%          1.000000\n",
       "50%          1.000000\n",
       "75%          1.000000\n",
       "max          6.000000\n",
       "Name: fechaPulso, dtype: float64"
      ]
     },
     "execution_count": 65,
     "metadata": {},
     "output_type": "execute_result"
    }
   ],
   "source": [
    "res_graf['fechaPulso'].describe()"
   ]
  },
  {
   "cell_type": "code",
   "execution_count": 68,
   "id": "4854ad3d",
   "metadata": {},
   "outputs": [],
   "source": [
    "res_graf_val=res_graf[res_graf['fechaPulso']>100]\n",
    "res_graf_val=res_graf"
   ]
  },
  {
   "cell_type": "code",
   "execution_count": 69,
   "id": "0173413c",
   "metadata": {},
   "outputs": [],
   "source": [
    "G=nx.from_pandas_edgelist(res_graf_val, source='idVendedor',target='idComprador', edge_attr='fechaPulso')"
   ]
  },
  {
   "cell_type": "code",
   "execution_count": 4,
   "id": "b5308108",
   "metadata": {
    "scrolled": true
   },
   "outputs": [],
   "source": [
    "##plt.figure(1,figsize=(200,200))\n",
    "##nx.draw(G,node_size=1,font_size=8)"
   ]
  },
  {
   "cell_type": "code",
   "execution_count": 28,
   "id": "f2700af7",
   "metadata": {},
   "outputs": [],
   "source": [
    "import matplotlib.pyplot as plt"
   ]
  },
  {
   "cell_type": "code",
   "execution_count": 72,
   "id": "6941a71a",
   "metadata": {},
   "outputs": [],
   "source": [
    "from collections import Counter"
   ]
  },
  {
   "cell_type": "code",
   "execution_count": 73,
   "id": "c5612837",
   "metadata": {},
   "outputs": [],
   "source": [
    "contarFreq=(Counter((list(res_graf['idComprador'].values)+list(res_graf['idVendedor'].values))))"
   ]
  },
  {
   "cell_type": "code",
   "execution_count": 76,
   "id": "3d70ea73",
   "metadata": {},
   "outputs": [],
   "source": [
    "contarFreq=pd.DataFrame.from_dict(contarFreq, orient='index').reset_index().sort_values(0, ascending=False)"
   ]
  },
  {
   "cell_type": "code",
   "execution_count": 99,
   "id": "a675255b",
   "metadata": {
    "scrolled": true
   },
   "outputs": [],
   "source": [
    "seleccionados=list(contarFreq.head(200)[0].values)\n",
    "#seleccionados"
   ]
  },
  {
   "cell_type": "code",
   "execution_count": 100,
   "id": "c94f75d8",
   "metadata": {},
   "outputs": [],
   "source": [
    "res_graf_val=res_graf[(res_graf['idComprador'].isin(seleccionados))|(res_graf['idVendedor'].isin(seleccionados))]"
   ]
  },
  {
   "cell_type": "code",
   "execution_count": 101,
   "id": "794a8886",
   "metadata": {},
   "outputs": [],
   "source": [
    "G=nx.from_pandas_edgelist(res_graf_val, source='idVendedor',target='idComprador', edge_attr='fechaPulso')"
   ]
  },
  {
   "cell_type": "code",
   "execution_count": 3,
   "id": "18f859df",
   "metadata": {},
   "outputs": [],
   "source": [
    "##plt.figure(1,figsize=(100,100))\n",
    "##nx.draw(G,node_size=200,font_size=8)"
   ]
  },
  {
   "cell_type": "code",
   "execution_count": null,
   "id": "f26fc7ce",
   "metadata": {},
   "outputs": [],
   "source": []
  },
  {
   "cell_type": "code",
   "execution_count": null,
   "id": "a523e8f7",
   "metadata": {},
   "outputs": [],
   "source": []
  },
  {
   "cell_type": "code",
   "execution_count": null,
   "id": "ec87a8ee",
   "metadata": {},
   "outputs": [],
   "source": []
  },
  {
   "cell_type": "code",
   "execution_count": 20,
   "id": "339dd849",
   "metadata": {},
   "outputs": [],
   "source": [
    "import pyvis"
   ]
  },
  {
   "cell_type": "code",
   "execution_count": 22,
   "id": "fba08898",
   "metadata": {},
   "outputs": [],
   "source": [
    "from pyvis.network import Network"
   ]
  },
  {
   "cell_type": "code",
   "execution_count": 25,
   "id": "918c16ad",
   "metadata": {},
   "outputs": [],
   "source": [
    "net=Network(notebook=True)"
   ]
  },
  {
   "cell_type": "code",
   "execution_count": 26,
   "id": "cdf7cc7f",
   "metadata": {},
   "outputs": [],
   "source": [
    "net.from_nx(G)"
   ]
  },
  {
   "cell_type": "code",
   "execution_count": null,
   "id": "8ec8d84b",
   "metadata": {},
   "outputs": [],
   "source": []
  }
 ],
 "metadata": {
  "kernelspec": {
   "display_name": "Python 3 (ipykernel)",
   "language": "python",
   "name": "python3"
  },
  "language_info": {
   "codemirror_mode": {
    "name": "ipython",
    "version": 3
   },
   "file_extension": ".py",
   "mimetype": "text/x-python",
   "name": "python",
   "nbconvert_exporter": "python",
   "pygments_lexer": "ipython3",
   "version": "3.8.8"
  }
 },
 "nbformat": 4,
 "nbformat_minor": 5
}
