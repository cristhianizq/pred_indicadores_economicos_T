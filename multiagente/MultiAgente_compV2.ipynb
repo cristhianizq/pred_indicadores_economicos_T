{
 "cells": [
  {
   "cell_type": "markdown",
   "id": "34384ec0",
   "metadata": {},
   "source": [
    "# Plan\n",
    "\n",
    "* organizar preprocesamiento\n",
    " * corregir fecha TRM\n",
    "* Dejar Solo funciones\n",
    "* programar ciclos\n",
    "* dejar registro quiebras\n",
    "* dejar registro cuantos quiebran y sobreviven\n",
    "* analizar resultados en otro script\n",
    " * hurst\n",
    " * ley potencia\n",
    "* probar con nuevo resultado\n",
    "* probar con otro indice\n",
    "* fin\n"
   ]
  },
  {
   "cell_type": "markdown",
   "id": "108c0400",
   "metadata": {},
   "source": [
    "# Librerías y configuraciones generales"
   ]
  },
  {
   "cell_type": "code",
   "execution_count": null,
   "id": "d694bad7",
   "metadata": {},
   "outputs": [],
   "source": [
    "import pandas as pd\n",
    "from random import randrange\n",
    "import random\n",
    "import math\n",
    "from statsmodels.tsa.api import SimpleExpSmoothing\n",
    "import matplotlib.pyplot as plt\n",
    "import warnings"
   ]
  },
  {
   "cell_type": "code",
   "execution_count": null,
   "id": "0294d505",
   "metadata": {},
   "outputs": [],
   "source": [
    "from IPython.core.display import display, HTML\n",
    "display(HTML(\"<style>.container { width:100% !important; }</style>\"))"
   ]
  },
  {
   "cell_type": "code",
   "execution_count": null,
   "id": "4bb3ce86",
   "metadata": {},
   "outputs": [],
   "source": [
    "pd.set_option('display.max_columns', None)\n",
    "warnings.filterwarnings('ignore')"
   ]
  },
  {
   "cell_type": "markdown",
   "id": "f5366c1a",
   "metadata": {},
   "source": [
    "# Preprocesamiento \n",
    "* Carga datos de entrada"
   ]
  },
  {
   "cell_type": "code",
   "execution_count": null,
   "id": "d006ea08",
   "metadata": {},
   "outputs": [],
   "source": [
    "rango_lectura=['2020-10-09','2021-05-18']\n",
    "rango_indice=['2020-09-09','2021-05-18']"
   ]
  },
  {
   "cell_type": "code",
   "execution_count": null,
   "id": "012da993",
   "metadata": {},
   "outputs": [],
   "source": [
    "base_rss = pd.read_csv (r'TranformacionBases_Java/Rss_adap_multi.csv', engine='python', encoding = \"ISO-8859-1\", sep=';')\n",
    "base_twitter = pd.read_csv (r'TranformacionBases_Java/Twitter_adap_multi.csv', engine='python', encoding = \"ISO-8859-1\", sep=';')"
   ]
  },
  {
   "cell_type": "code",
   "execution_count": null,
   "id": "05b3a3c1",
   "metadata": {
    "scrolled": true
   },
   "outputs": [],
   "source": [
    "# rangos datos lecturas\n",
    "print(\"rango rss: min: \",min(base_rss['date_adj']), \" max: \",max(base_rss['date_adj']))\n",
    "print(\"rango twitter: min: \",min(base_twitter['date']), \" max: \",max(base_twitter['date']))"
   ]
  },
  {
   "cell_type": "code",
   "execution_count": null,
   "id": "3ec66d5a",
   "metadata": {},
   "outputs": [],
   "source": [
    "datos_twitter=base_twitter[['id_fuente','date','polaridad']].groupby(['id_fuente','date']).mean().reset_index()\n",
    "datos_twitter"
   ]
  },
  {
   "cell_type": "code",
   "execution_count": null,
   "id": "d034c1ea",
   "metadata": {},
   "outputs": [],
   "source": [
    "datos_twitter['date'] = pd.to_datetime(datos_twitter['date'])"
   ]
  },
  {
   "cell_type": "code",
   "execution_count": null,
   "id": "6a2eef4d",
   "metadata": {},
   "outputs": [],
   "source": [
    "datos_rss=base_rss[['fuenteRss','date','polaridad']].groupby(['fuenteRss','date']).mean().reset_index()\n",
    "datos_rss"
   ]
  },
  {
   "cell_type": "code",
   "execution_count": null,
   "id": "3424b019",
   "metadata": {},
   "outputs": [],
   "source": [
    "datos_rss['date'] = pd.to_datetime(datos_rss['date'])"
   ]
  },
  {
   "cell_type": "code",
   "execution_count": null,
   "id": "6d520dc7",
   "metadata": {},
   "outputs": [],
   "source": [
    "##igualar rangos"
   ]
  },
  {
   "cell_type": "code",
   "execution_count": null,
   "id": "15388806",
   "metadata": {},
   "outputs": [],
   "source": [
    "datos_trm=pd.read_csv (r'TranformacionBases_Java/TRM_total_adap_multi.csv', engine='python', encoding = \"ISO-8859-1\", sep=';')"
   ]
  },
  {
   "cell_type": "code",
   "execution_count": null,
   "id": "eb28c789",
   "metadata": {},
   "outputs": [],
   "source": [
    "datos_trm=datos_trm[datos_trm['date']>=rango_indice[0]]\n",
    "datos_trm=datos_trm[datos_trm['date']<=rango_indice[1]]"
   ]
  },
  {
   "cell_type": "code",
   "execution_count": null,
   "id": "62b6032f",
   "metadata": {},
   "outputs": [],
   "source": [
    "datos_trm"
   ]
  },
  {
   "cell_type": "code",
   "execution_count": null,
   "id": "0c62cddd",
   "metadata": {},
   "outputs": [],
   "source": [
    "datos_trm['date'] = pd.to_datetime(datos_trm['date'])"
   ]
  },
  {
   "cell_type": "code",
   "execution_count": null,
   "id": "0852d845",
   "metadata": {},
   "outputs": [],
   "source": [
    "datos_twitter.columns=['fuente','date','polaridad']\n",
    "datos_rss.columns=['fuente','date','polaridad']"
   ]
  },
  {
   "cell_type": "code",
   "execution_count": null,
   "id": "c4ab4e84",
   "metadata": {},
   "outputs": [],
   "source": [
    "datos_rss"
   ]
  },
  {
   "cell_type": "code",
   "execution_count": null,
   "id": "231f9a72",
   "metadata": {},
   "outputs": [],
   "source": [
    "datos_lectura=datos_twitter.append(datos_rss)"
   ]
  },
  {
   "cell_type": "code",
   "execution_count": null,
   "id": "daa3b233",
   "metadata": {},
   "outputs": [],
   "source": [
    "datos_lectura"
   ]
  },
  {
   "cell_type": "code",
   "execution_count": null,
   "id": "717e8f78",
   "metadata": {},
   "outputs": [],
   "source": [
    "datos_lectura=datos_lectura[datos_lectura['polaridad']!=0]"
   ]
  },
  {
   "cell_type": "markdown",
   "id": "1528a103",
   "metadata": {},
   "source": [
    "## Carga Maestro Fuentes"
   ]
  },
  {
   "cell_type": "code",
   "execution_count": null,
   "id": "247eed8f",
   "metadata": {},
   "outputs": [],
   "source": [
    "base_maestro_fuentes = pd.read_csv (r'TranformacionBases_Java/maestro_fuentes.csv', engine='python', encoding = \"ISO-8859-1\", sep=';')"
   ]
  },
  {
   "cell_type": "code",
   "execution_count": null,
   "id": "e7496a04",
   "metadata": {},
   "outputs": [],
   "source": [
    "base_maestro_fuentes.reset_index()"
   ]
  },
  {
   "cell_type": "code",
   "execution_count": null,
   "id": "fb9abbab",
   "metadata": {},
   "outputs": [],
   "source": [
    "datos_lectura=datos_lectura.merge(base_maestro_fuentes.reset_index(), left_on='fuente', right_on='fuente', how='left')\n",
    "datos_lectura"
   ]
  },
  {
   "cell_type": "markdown",
   "id": "c6c7efb4",
   "metadata": {},
   "source": [
    "## Calendario"
   ]
  },
  {
   "cell_type": "code",
   "execution_count": null,
   "id": "b1410576",
   "metadata": {},
   "outputs": [],
   "source": [
    "calendario = pd.DataFrame({\"Date\": pd.date_range(rango_indice[0], rango_indice[1])})"
   ]
  },
  {
   "cell_type": "code",
   "execution_count": null,
   "id": "9e52168d",
   "metadata": {},
   "outputs": [],
   "source": [
    "calendario"
   ]
  },
  {
   "cell_type": "markdown",
   "id": "0635467c",
   "metadata": {},
   "source": [
    "# Agente"
   ]
  },
  {
   "cell_type": "code",
   "execution_count": null,
   "id": "c220c4c9",
   "metadata": {},
   "outputs": [],
   "source": [
    "def crearAgente(id,tipo): #quizas falta el valor del var econ,\n",
    "    agente={}\n",
    "    agente['TIPO']=tipo\n",
    "    agente['id']=id\n",
    "    agente['edad']=0\n",
    "    agente['capital']= randrange(1000,1000000000)\n",
    "    agente['stockProducto']=randrange(10,1000000)\n",
    "    agente['umbralStock']=randrange(10,1000000)\n",
    "    agente['habilidadAdministrativa']=random.uniform(-0.02, 0.5)\n",
    "    #agente['tasaConsumo']=random.uniform(0.1, 0.5)\n",
    "    if agente['TIPO']=='Comprador':\n",
    "        agente['rentabilidad']=random.uniform(0.1, 0.2)\n",
    "    elif agente['TIPO']=='Vendedor':\n",
    "        agente['rentabilidad']=random.uniform(0.2, 0.6)\n",
    "    agente['tamanoRegresion']= randrange(5,20)\n",
    "    # perfilIntereses  No aplica\n",
    "    agente['impactoTextos']=random.uniform(-1, 1)\n",
    "    agente['estrategiaLectura']=[0]*NUM_FUENTES_INTERPRETACION\n",
    "    agente['estrategiaLectura_imp']=[0]*NUM_FUENTES_INTERPRETACION\n",
    "    for i in range(NUM_FUENTES_INTERPRETACION):\n",
    "        agente['estrategiaLectura'][i]=randrange(NUM_FUENTES_TOTATALES)\n",
    "        agente['estrategiaLectura_imp'][i]=random.random()\n",
    "    agente['numeroDiasLecturas']=randrange(2,7)\n",
    "    agente['umbralPronostico']=random.uniform(0.2, 0.5)\n",
    "    agente['porcentajeCapitalCompra']=random.uniform(0, 1)\n",
    "    agente['porcentajeStockVenta']=random.uniform(0, 1)\n",
    "    #agente['costoMauc']  costo del commoditie según bolsa\n",
    "    #agente['costosFijos']=random.uniform(0.1, 0.3)\n",
    "    agente['tasaProduccion']=random.uniform(0, 0.5)\n",
    "    #agente['limiteSobrePrecio']=random.uniform(0.01, 0.3)\n",
    "    agente['viveza']=random.uniform(0.01, 0.2)\n",
    "    agente['controlGastosEImpuestos']=random.uniform(0.01, 0.1)\n",
    "    return agente"
   ]
  },
  {
   "cell_type": "code",
   "execution_count": null,
   "id": "f1d0fd4a",
   "metadata": {},
   "outputs": [],
   "source": [
    "def pronosticoAgente(agente):    \n",
    "    reg_inicio=FECHA_PULSO-agente['tamanoRegresion']\n",
    "    rango_reg_agente=[calendario.iloc[reg_inicio]['Date'],calendario.iloc[FECHA_PULSO]['Date']]\n",
    "\n",
    "    serie_indice_agente=datos_trm[datos_trm['date']>=rango_reg_agente[0]]\n",
    "    serie_indice_agente=serie_indice_agente[serie_indice_agente['date']<=rango_reg_agente[1]]\n",
    "\n",
    "    modelo_agente=SimpleExpSmoothing(serie_indice_agente['TRM']).fit(smoothing_level=0.5,optimized=False)\n",
    "    prediccion_base_agente=modelo_agente.forecast()\n",
    "\n",
    "    prediccion_base_agente=prediccion_base_agente.values[0]\n",
    "    df_lecura_agente=pd.DataFrame({'index':agente['estrategiaLectura'] , 'impacto': agente['estrategiaLectura_imp']})\n",
    "\n",
    "    lect_inicio=FECHA_PULSO-agente['numeroDiasLecturas']\n",
    "    rango_lec_agente=[calendario.iloc[lect_inicio]['Date'],calendario.iloc[FECHA_PULSO]['Date']]\n",
    "\n",
    "    serie_lectura_agente=datos_lectura[datos_lectura['date']>=rango_lec_agente[0]]\n",
    "    serie_lectura_agente=serie_lectura_agente[serie_lectura_agente['date']<=rango_lec_agente[1]]\n",
    "    serie_lectura_agente=serie_lectura_agente.merge(df_lecura_agente, left_on='index', right_on='index', how='left')\n",
    "\n",
    "    serie_lectura_agente=serie_lectura_agente[serie_lectura_agente['impacto'].notnull()]\n",
    "    serie_lectura_agente['factor']=serie_lectura_agente['polaridad']*serie_lectura_agente['impacto']\n",
    "    \n",
    "    #agente['pronosticos_dia_siguiente']=prediccion_base_agente*(1+serie_lectura_agente['factor'].mean()*agente['impactoTextos'])\n",
    "    if len(serie_lectura_agente)>0 :\n",
    "        #agente['pronosticos_dia_siguiente']=prediccion_base_agente*(1+serie_lectura_agente['factor'].mean()*agente['impactoTextos'])\n",
    "        pronosticos_dia_siguiente=prediccion_base_agente*(1+serie_lectura_agente['factor'].mean()*agente['impactoTextos'])\n",
    "    else:\n",
    "        #agente['pronosticos_dia_siguiente']=prediccion_base_agente\n",
    "        pronosticos_dia_siguiente=prediccion_base_agente\n",
    "        \n",
    "    return pronosticos_dia_siguiente"
   ]
  },
  {
   "cell_type": "code",
   "execution_count": null,
   "id": "fa10696f",
   "metadata": {},
   "outputs": [],
   "source": [
    "def activacionComprador(agente):\n",
    "    #cuando\n",
    "    agente['activo']=False\n",
    "    #necesita stock?\n",
    "    val_stock=agente['stockProducto']<agente['umbralStock']\n",
    "    #el cambio del mercado le combiene?  prediccion - valor actual\n",
    "    val_conveniencia=(agente['pronosticos_dia_siguiente'] - VALOR_MOMENTO_INDICE) > agente['umbralPronostico']\n",
    "    #alguna de las 2 situaciones\n",
    "    agente['activo']=val_stock or val_conveniencia\n",
    "    #cuanto comprar\n",
    "    agente['cantidadTransaccionar']=agente['capital']*agente['porcentajeCapitalCompra']\n",
    "    #precio negociacion\n",
    "    agente['precioNegociacion']=(agente['pronosticos_dia_siguiente'] - VALOR_MOMENTO_INDICE)*(1-agente['viveza'])+VALOR_MOMENTO_INDICE\n",
    "    return agente['activo']"
   ]
  },
  {
   "cell_type": "code",
   "execution_count": null,
   "id": "31c4ba71",
   "metadata": {},
   "outputs": [],
   "source": [
    "def activacionVendedor(agente):\n",
    "    #cuando vender\n",
    "    agente['activo']=False\n",
    "    #necesita stock?\n",
    "    val_stock=agente['stockProducto']>agente['umbralStock']\n",
    "    #el cambio del mercado le combiene?  prediccion - valor actual\n",
    "    val_conveniencia=(VALOR_MOMENTO_INDICE - agente['pronosticos_dia_siguiente'] ) > agente['umbralPronostico']\n",
    "    #alguna de las 2 situaciones\n",
    "    agente['activo']=val_stock or val_conveniencia\n",
    "    #cuanto vender\n",
    "    agente['cantidadTransaccionar']=agente['stockProducto']*agente['porcentajeStockVenta']\n",
    "    #precio negociacion\n",
    "    agente['precioNegociacion']=(agente['pronosticos_dia_siguiente'] - VALOR_MOMENTO_INDICE)*(1-agente['viveza'])+VALOR_MOMENTO_INDICE\n",
    "    return agente['activo']"
   ]
  },
  {
   "cell_type": "code",
   "execution_count": null,
   "id": "706d66d4",
   "metadata": {},
   "outputs": [],
   "source": [
    "def transaccionarAgente(agenteComprador,agenteVendedor):\n",
    "    #id agentes\n",
    "    idComprador=agenteComprador.get('id')\n",
    "    idVendedor=agenteVendedor.get('id')    \n",
    "    #definir cantidad transaccionar\n",
    "    cantidadRequeridaComprador=agenteComprador['cantidadTransaccionar']\n",
    "    cantidadDisponibleVendedor=agenteVendedor['cantidadTransaccionar']\n",
    "    cantidadTransaccion= cantidadRequeridaComprador if cantidadRequeridaComprador<cantidadDisponibleVendedor else cantidadDisponibleVendedor\n",
    "    #precio transaccion\n",
    "    precioTransaccion=agenteVendedor['precioNegociacion']\n",
    "    #numeroPulsoActual\n",
    "    #FECHA_PULSO\n",
    "    \n",
    "    #Cambio estado agentes\n",
    "    #comprador\n",
    "    agenteComprador['capital']=agenteComprador['capital']-precioTransaccion*cantidadTransaccion\n",
    "    ##sin costo mauc\n",
    "    agenteComprador['stockProducto']=agenteComprador['stockProducto']+cantidadTransaccion\n",
    "    agenteComprador['cantidadTransaccionar']=agenteComprador['cantidadTransaccionar']-cantidadTransaccion\n",
    "    #vendedor\n",
    "    agenteVendedor['capital']=agenteVendedor['capital']+precioTransaccion*cantidadTransaccion\n",
    "    agenteVendedor['stockProducto']=agenteVendedor['stockProducto']-cantidadTransaccion\n",
    "    agenteVendedor['cantidadTransaccionar']=agenteVendedor['cantidadTransaccionar']-cantidadTransaccion\n",
    "    #validar activacion agentes, retornar para acciones\n",
    "    desactivarComprador=agenteComprador['cantidadTransaccionar']==0\n",
    "    desactivarVendedor=agenteVendedor['cantidadTransaccionar']==0\n",
    "    lineaTransaccion=[idComprador,idVendedor,cantidadTransaccion,precioTransaccion,FECHA_PULSO]\n",
    "    #return {'desact_comp':desactivarComprador, 'desact_vend':desactivarVendedor, 'lineaTransaccion':lineaTransaccion}\n",
    "    return [desactivarComprador, desactivarVendedor, lineaTransaccion]"
   ]
  },
  {
   "cell_type": "code",
   "execution_count": null,
   "id": "a4786e14",
   "metadata": {},
   "outputs": [],
   "source": [
    "def vivirComprador(agente):\n",
    "    #aprovecha unidades\n",
    "    unidadesAprovechadas=agente['habilidadAdministrativa']*agente['stockProducto']\n",
    "    agente['stockProducto']=agente['stockProducto']-unidadesAprovechadas\n",
    "    #tiene gastos\n",
    "    agente['capital']=agente['capital']*(1-agente['controlGastosEImpuestos'])\n",
    "    #recibe capital\n",
    "    precioAprovechamiento=VALOR_MOMENTO_INDICE/(1-agente['rentabilidad'])\n",
    "    agente['capital']=agente['capital']+unidadesAprovechadas*precioAprovechamiento\n",
    "    #reevaluar costos fijos \n",
    "    #aumentar edad\n",
    "    agente['edad']=agente['edad']+1"
   ]
  },
  {
   "cell_type": "code",
   "execution_count": null,
   "id": "adeb88f4",
   "metadata": {},
   "outputs": [],
   "source": [
    "def vivirVendedor(agente):\n",
    "    #tiene gastos\n",
    "    agente['capital']=agente['capital']*(1-agente['controlGastosEImpuestos'])\n",
    "    #le cuesta producir\n",
    "    agente['capital']=agente['capital']*(1-agente['habilidadAdministrativa'])*agente['tasaProduccion']\n",
    "    #aumenta el stock con lo producido\n",
    "    agente['stockProducto']=agente['stockProducto']+agente['stockProducto']*agente['tasaProduccion']\n",
    "    #aumenta edad\n",
    "    agente['edad']=agente['edad']+1"
   ]
  },
  {
   "cell_type": "markdown",
   "id": "9f39d53a",
   "metadata": {},
   "source": [
    "# Universo"
   ]
  },
  {
   "cell_type": "code",
   "execution_count": null,
   "id": "50ef5a36",
   "metadata": {},
   "outputs": [],
   "source": [
    "#GENERACION ESPONTANEA UNIVERSO\n",
    "def generacionEspontanea():       \n",
    "    for i in range(POBLACION_INICIAL):\n",
    "        if(random.random()<=CANT_COMPRADORES):\n",
    "            compradores.append(crearAgente(i,'Comprador'))\n",
    "        else:\n",
    "            vendedores.append(crearAgente(i,'Vendedor'))"
   ]
  },
  {
   "cell_type": "code",
   "execution_count": null,
   "id": "83ea03e6",
   "metadata": {},
   "outputs": [],
   "source": [
    "def quiebraEmpresas():\n",
    "    #quiebraEmpresas    \n",
    "    for comp in compradores:\n",
    "        capiltalEmpresa=comp['capital']\n",
    "        valorStockEmpresa=comp['stockProducto']*VALOR_MOMENTO_INDICE\n",
    "        valorEmpresa=capiltalEmpresa+valorStockEmpresa        \n",
    "        #print(\"COMP capemp:\",capiltalEmpresa,' valemp:',valorEmpresa, ' limQuiebra:',LIMITE_QUIEBRA)\n",
    "        if capiltalEmpresa<LIMITE_QUIEBRA or valorEmpresa<LIMITE_QUIEBRA :\n",
    "            #print(\"entraComp\")\n",
    "            compradores.remove(comp)     \n",
    "            agentesQuebrados.append(comp)\n",
    "    for vend in vendedores:\n",
    "        capiltalEmpresa=vend['capital']\n",
    "        valorStockEmpresa=vend['stockProducto']*VALOR_MOMENTO_INDICE\n",
    "        valorEmpresa=capiltalEmpresa+valorStockEmpresa        \n",
    "        #print(\"VEND capemp:\",capiltalEmpresa,' valemp:',valorEmpresa, ' limQuiebra:',LIMITE_QUIEBRA)\n",
    "        if capiltalEmpresa<LIMITE_QUIEBRA or valorEmpresa<LIMITE_QUIEBRA :\n",
    "            #print(\"entraVend\")\n",
    "            vendedores.remove(vend)\n",
    "            agentesQuebrados.append(vend)"
   ]
  },
  {
   "cell_type": "code",
   "execution_count": null,
   "id": "3733c6b7",
   "metadata": {},
   "outputs": [],
   "source": [
    "def nuevosAgentes():\n",
    "    #num_nuevos_agentes=math.floor(random.uniform(0, MAX_GENERACION_AGENTES)*POBLACION_ACTUAL)\n",
    "    num_nuevos_agentes=math.floor(random.uniform(0, MAX_GENERACION_AGENTES)*POBLACION_ACTUAL)\n",
    "    print(\"max_generacion_agentes: \",MAX_GENERACION_AGENTES,\"nuevos Agentes: \", num_nuevos_agentes, \"pob actual: \",POBLACION_ACTUAL, \"pob final: \",POBLACION_ACTUAL+num_nuevos_agentes)\n",
    "    for i in range(POBLACION_ACTUAL,POBLACION_ACTUAL+num_nuevos_agentes):\n",
    "        if(random.random()<=CANT_COMPRADORES):\n",
    "            compradores.append(crearAgente(i,'Comprador'))\n",
    "        else:\n",
    "            vendedores.append(crearAgente(i,'Vendedor'))"
   ]
  },
  {
   "cell_type": "code",
   "execution_count": null,
   "id": "254cca1e",
   "metadata": {},
   "outputs": [],
   "source": [
    "def pronosticoUniverso():\n",
    "    for comp in compradores:\n",
    "        #print(pronosticoAgente(comp))\n",
    "        comp['pronosticos_dia_siguiente']=pronosticoAgente(comp)\n",
    "    for vend in vendedores:\n",
    "        #print(pronosticoAgente(vend))\n",
    "        vend['pronosticos_dia_siguiente']=pronosticoAgente(vend)"
   ]
  },
  {
   "cell_type": "code",
   "execution_count": null,
   "id": "666f09ca",
   "metadata": {},
   "outputs": [],
   "source": [
    "def activacionUniverso():\n",
    "    for comp in compradores:\n",
    "        #print(pronosticoAgente(comp))\n",
    "        auxActivacion=activacionComprador(comp)\n",
    "        if auxActivacion:\n",
    "            compradoresActivos.append(comp)\n",
    "    for vend in vendedores:\n",
    "        #print(pronosticoAgente(vend))\n",
    "        auxActivacion=activacionVendedor(vend)\n",
    "        if auxActivacion:\n",
    "            vendedoresActivos.append(vend)"
   ]
  },
  {
   "cell_type": "code",
   "execution_count": null,
   "id": "7ed2247e",
   "metadata": {},
   "outputs": [],
   "source": [
    "### Función transaccionar\n",
    "def transaccionarUniverso():\n",
    "    random.shuffle(compradoresActivos)\n",
    "    \n",
    "    for comp in compradoresActivos:     \n",
    "        if len(vendedoresActivos)==0:\n",
    "            #print(\"no hay vendedores\")\n",
    "            break\n",
    "\n",
    "        df_ofertas=pd.DataFrame.from_dict(vendedoresActivos).sort_values('precioNegociacion')\n",
    "        mejorVendedor=next(item for item in vendedoresActivos if item['id'] == df_ofertas.iloc[0]['id'])\n",
    "        compradorMomento=comp\n",
    "\n",
    "        precioMaximoCompra=compradorMomento['precioNegociacion']\n",
    "        precioMinimoVenta=mejorVendedor['precioNegociacion']\n",
    "        #selecciona si puede transaccionar\n",
    "        if precioMaximoCompra>precioMinimoVenta:\n",
    "            #print(\"transaccionar\")\n",
    "            #puede desactivar algun vendedor, antes de pasar a las siguientes transacciones\n",
    "            (desactivarComprador, desactivarVendedor, lineaTransaccion)=transaccionarAgente(compradorMomento,mejorVendedor)\n",
    "            #agregar transaccion a arreglo de transacciones con datos principales\n",
    "            if desactivarComprador:\n",
    "                compradoresActivos.remove(compradorMomento)\n",
    "            if desactivarVendedor:\n",
    "                vendedoresActivos.remove(mejorVendedor) \n",
    "            #registra la transacción\n",
    "            DF_TRANSACCIONES.loc[len(DF_TRANSACCIONES)]=lineaTransaccion"
   ]
  },
  {
   "cell_type": "code",
   "execution_count": null,
   "id": "e641e62a",
   "metadata": {},
   "outputs": [],
   "source": [
    "def vivirUniverso():\n",
    "    for comp in compradores:\n",
    "        vivirComprador(comp)\n",
    "    for vend in vendedores:\n",
    "        vivirVendedor(vend)"
   ]
  },
  {
   "cell_type": "markdown",
   "id": "4cffff44",
   "metadata": {},
   "source": [
    "# SIMULACION"
   ]
  },
  {
   "cell_type": "markdown",
   "id": "a705df00",
   "metadata": {},
   "source": [
    "## Parametros Globales"
   ]
  },
  {
   "cell_type": "code",
   "execution_count": null,
   "id": "c384c762",
   "metadata": {},
   "outputs": [],
   "source": [
    "#AGENTES\n",
    "NUM_FUENTES_TOTATALES=137\n",
    "NUM_FUENTES_INTERPRETACION=5"
   ]
  },
  {
   "cell_type": "code",
   "execution_count": null,
   "id": "736bfd4d",
   "metadata": {},
   "outputs": [],
   "source": [
    "#UNIVERSO\n",
    "POBLACION_INICIAL=100\n",
    "CANT_COMPRADORES=0.7\n",
    "\n",
    "#LIMITE_QUIEBRA=1000\n",
    "LIMITE_QUIEBRA=10000000\n",
    "MAX_GENERACION_AGENTES=0.2\n",
    "\n",
    "POBLACION_ACTUAL=0"
   ]
  },
  {
   "cell_type": "code",
   "execution_count": null,
   "id": "9e030a47",
   "metadata": {},
   "outputs": [],
   "source": [
    "FECHA_PULSO=36   #fecha inicial con información suficiente"
   ]
  },
  {
   "cell_type": "code",
   "execution_count": null,
   "id": "ce8b3ab3",
   "metadata": {},
   "outputs": [],
   "source": [
    "VALOR_MOMENTO_INDICE=datos_trm[datos_trm['date']<=calendario.iloc[FECHA_PULSO]['Date']].iloc[-1]['TRM']"
   ]
  },
  {
   "cell_type": "code",
   "execution_count": null,
   "id": "28a21718",
   "metadata": {},
   "outputs": [],
   "source": [
    "#VALOR_MOMENTO_INDICE"
   ]
  },
  {
   "cell_type": "code",
   "execution_count": null,
   "id": "82e243d7",
   "metadata": {},
   "outputs": [],
   "source": [
    "DF_TRANSACCIONES=pd.DataFrame(columns=['idComprador','idVendedor','cantidadTransaccion','precioTransaccion','fechaPulso']) ###llevar antes al algoritmo"
   ]
  },
  {
   "cell_type": "code",
   "execution_count": null,
   "id": "699f5132",
   "metadata": {},
   "outputs": [],
   "source": [
    "compradores=[]\n",
    "vendedores=[]"
   ]
  },
  {
   "cell_type": "code",
   "execution_count": null,
   "id": "7d034cf3",
   "metadata": {},
   "outputs": [],
   "source": [
    "generacionEspontanea()"
   ]
  },
  {
   "cell_type": "code",
   "execution_count": null,
   "id": "edcc8776",
   "metadata": {
    "scrolled": true
   },
   "outputs": [],
   "source": [
    "print(\"numCompradores: \",len(compradores), \"numVendedores: \",len(vendedores))"
   ]
  },
  {
   "cell_type": "code",
   "execution_count": null,
   "id": "1fe5b720",
   "metadata": {},
   "outputs": [],
   "source": [
    "agentesQuebrados=[]"
   ]
  },
  {
   "cell_type": "markdown",
   "id": "f4dea9fa",
   "metadata": {},
   "source": [
    "### ciclos simulacion"
   ]
  },
  {
   "cell_type": "code",
   "execution_count": null,
   "id": "103eeb0a",
   "metadata": {
    "scrolled": true
   },
   "outputs": [],
   "source": [
    "for generacion in range(0,100,1):\n",
    "    VALOR_MOMENTO_INDICE=datos_trm[datos_trm['date']<=calendario.iloc[FECHA_PULSO]['Date']].iloc[-1]['TRM']\n",
    "    POBLACION_ACTUAL=len(compradores)+len(vendedores)    \n",
    "    quiebraEmpresas()# capturar información de agentes quebrados\n",
    "    POBLACION_ACTUAL=len(compradores)+len(vendedores)\n",
    "    print(\"PULSO: \",FECHA_PULSO, \"Generacion: \",generacion, \" poblacion actual: \",POBLACION_ACTUAL )\n",
    "    nuevosAgentes()\n",
    "    #print(\"numCompradores: \",len(compradores), \"numVendedores: \",len(vendedores))\n",
    "    pronosticoUniverso()\n",
    "    compradoresActivos=[]\n",
    "    vendedoresActivos=[]\n",
    "    activacionUniverso()\n",
    "    #print(\"numCompradoresActivos: \",len(compradoresActivos), \"numVendedoresActivos: \",len(vendedoresActivos))\n",
    "    transaccionarUniverso()\n",
    "    #print(\"numCompradoresActivos: \",len(compradoresActivos), \"numVendedoresActivos: \",len(vendedoresActivos))\n",
    "    vivirUniverso()\n",
    "    print(\"numCompradores: \",len(compradores), \"numVendedores: \",len(vendedores), )\n",
    "    FECHA_PULSO=FECHA_PULSO+1"
   ]
  },
  {
   "cell_type": "markdown",
   "id": "52b9b3c4",
   "metadata": {},
   "source": [
    "# Estado final transacciones"
   ]
  },
  {
   "cell_type": "code",
   "execution_count": null,
   "id": "19b57fb3",
   "metadata": {
    "scrolled": true
   },
   "outputs": [],
   "source": [
    "DF_TRANSACCIONES"
   ]
  },
  {
   "cell_type": "code",
   "execution_count": null,
   "id": "1d0af095",
   "metadata": {},
   "outputs": [],
   "source": [
    "#agentesQuebrados\n",
    "pd.DataFrame.from_dict(agentesQuebrados).sort_values('edad')"
   ]
  },
  {
   "cell_type": "markdown",
   "id": "e8adf129",
   "metadata": {},
   "source": [
    "### Pasos a seguir"
   ]
  },
  {
   "cell_type": "markdown",
   "id": "07a4cb69",
   "metadata": {},
   "source": [
    "# Metricas\n",
    " * data frame de transacciones promedios y calcular costo\n",
    " * comparar con el indice\n",
    "* agentes que más transacciones y calcular distribución (ley potencia) \n",
    "* capturar el capital, stock y valor de la empresa por tiempo.\n",
    " * buscar los que más perduran y mirar como se ha comportado esta variable en el tiempo\n",
    "* probar con más agentes\n",
    "* con TRM del sistema\n",
    "* buscar ley de potencia y exponente hurts\n",
    "* probar con otros indices"
   ]
  },
  {
   "cell_type": "code",
   "execution_count": null,
   "id": "4bfda4a6",
   "metadata": {},
   "outputs": [],
   "source": []
  }
 ],
 "metadata": {
  "kernelspec": {
   "display_name": "Python 3",
   "language": "python",
   "name": "python3"
  },
  "language_info": {
   "codemirror_mode": {
    "name": "ipython",
    "version": 3
   },
   "file_extension": ".py",
   "mimetype": "text/x-python",
   "name": "python",
   "nbconvert_exporter": "python",
   "pygments_lexer": "ipython3",
   "version": "3.9.0"
  }
 },
 "nbformat": 4,
 "nbformat_minor": 5
}
