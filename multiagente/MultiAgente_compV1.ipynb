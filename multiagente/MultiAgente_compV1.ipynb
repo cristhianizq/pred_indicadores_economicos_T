{
 "cells": [
  {
   "cell_type": "markdown",
   "id": "34384ec0",
   "metadata": {},
   "source": [
    "# Plan\n",
    "\n",
    "* organizar preprocesamiento\n",
    " * corregir fecha TRM\n",
    "* Dejar Solo funciones\n",
    "* programar ciclos\n",
    "* dejar registro quiebras\n",
    "* dejar registro cuantos quiebran y sobreviven\n",
    "* analizar resultados en otro script\n",
    " * hurst\n",
    " * ley potencia\n",
    "* probar con nuevo resultado\n",
    "* probar con otro indice\n",
    "* fin\n"
   ]
  },
  {
   "cell_type": "markdown",
   "id": "108c0400",
   "metadata": {},
   "source": [
    "# Librerías y configuraciones generales"
   ]
  },
  {
   "cell_type": "code",
   "execution_count": 1,
   "id": "d694bad7",
   "metadata": {},
   "outputs": [],
   "source": [
    "import pandas as pd\n",
    "from random import randrange\n",
    "import random\n",
    "import math\n",
    "from statsmodels.tsa.api import SimpleExpSmoothing\n",
    "import matplotlib.pyplot as plt\n",
    "import warnings"
   ]
  },
  {
   "cell_type": "code",
   "execution_count": 2,
   "id": "0294d505",
   "metadata": {},
   "outputs": [
    {
     "data": {
      "text/html": [
       "<style>.container { width:100% !important; }</style>"
      ],
      "text/plain": [
       "<IPython.core.display.HTML object>"
      ]
     },
     "metadata": {},
     "output_type": "display_data"
    }
   ],
   "source": [
    "from IPython.core.display import display, HTML\n",
    "display(HTML(\"<style>.container { width:100% !important; }</style>\"))"
   ]
  },
  {
   "cell_type": "code",
   "execution_count": 3,
   "id": "4bb3ce86",
   "metadata": {},
   "outputs": [],
   "source": [
    "pd.set_option('display.max_columns', None)\n",
    "warnings.filterwarnings('ignore')"
   ]
  },
  {
   "cell_type": "markdown",
   "id": "f5366c1a",
   "metadata": {},
   "source": [
    "# Preprocesamiento \n",
    "* Carga datos de entrada"
   ]
  },
  {
   "cell_type": "code",
   "execution_count": 4,
   "id": "d006ea08",
   "metadata": {},
   "outputs": [],
   "source": [
    "rango_lectura=['2020-10-09','2021-05-18']\n",
    "rango_indice=['2020-09-09','2021-05-18']"
   ]
  },
  {
   "cell_type": "code",
   "execution_count": 5,
   "id": "012da993",
   "metadata": {},
   "outputs": [],
   "source": [
    "base_rss = pd.read_csv (r'TranformacionBases_Java/Rss_adap_multi.csv', engine='python', encoding = \"ISO-8859-1\", sep=';')\n",
    "base_twitter = pd.read_csv (r'TranformacionBases_Java/Twitter_adap_multi.csv', engine='python', encoding = \"ISO-8859-1\", sep=';')"
   ]
  },
  {
   "cell_type": "code",
   "execution_count": 6,
   "id": "05b3a3c1",
   "metadata": {
    "scrolled": true
   },
   "outputs": [
    {
     "name": "stdout",
     "output_type": "stream",
     "text": [
      "rango rss: min:  2020-10-09  max:  2021-05-18\n",
      "rango twitter: min:  2020-10-05  max:  2021-05-30\n"
     ]
    }
   ],
   "source": [
    "# rangos datos lecturas\n",
    "print(\"rango rss: min: \",min(base_rss['date_adj']), \" max: \",max(base_rss['date_adj']))\n",
    "print(\"rango twitter: min: \",min(base_twitter['date']), \" max: \",max(base_twitter['date']))"
   ]
  },
  {
   "cell_type": "code",
   "execution_count": 7,
   "id": "3ec66d5a",
   "metadata": {},
   "outputs": [
    {
     "data": {
      "text/html": [
       "<div>\n",
       "<style scoped>\n",
       "    .dataframe tbody tr th:only-of-type {\n",
       "        vertical-align: middle;\n",
       "    }\n",
       "\n",
       "    .dataframe tbody tr th {\n",
       "        vertical-align: top;\n",
       "    }\n",
       "\n",
       "    .dataframe thead th {\n",
       "        text-align: right;\n",
       "    }\n",
       "</style>\n",
       "<table border=\"1\" class=\"dataframe\">\n",
       "  <thead>\n",
       "    <tr style=\"text-align: right;\">\n",
       "      <th></th>\n",
       "      <th>id_fuente</th>\n",
       "      <th>date</th>\n",
       "      <th>polaridad</th>\n",
       "    </tr>\n",
       "  </thead>\n",
       "  <tbody>\n",
       "    <tr>\n",
       "      <th>0</th>\n",
       "      <td>BluRadioCo</td>\n",
       "      <td>2020-10-09</td>\n",
       "      <td>-0.347026</td>\n",
       "    </tr>\n",
       "    <tr>\n",
       "      <th>1</th>\n",
       "      <td>BluRadioCo</td>\n",
       "      <td>2020-10-10</td>\n",
       "      <td>-0.271511</td>\n",
       "    </tr>\n",
       "    <tr>\n",
       "      <th>2</th>\n",
       "      <td>BluRadioCo</td>\n",
       "      <td>2020-10-11</td>\n",
       "      <td>-0.635847</td>\n",
       "    </tr>\n",
       "    <tr>\n",
       "      <th>3</th>\n",
       "      <td>BluRadioCo</td>\n",
       "      <td>2020-10-25</td>\n",
       "      <td>-0.249044</td>\n",
       "    </tr>\n",
       "    <tr>\n",
       "      <th>4</th>\n",
       "      <td>BluRadioCo</td>\n",
       "      <td>2020-10-26</td>\n",
       "      <td>-0.410109</td>\n",
       "    </tr>\n",
       "    <tr>\n",
       "      <th>...</th>\n",
       "      <td>...</td>\n",
       "      <td>...</td>\n",
       "      <td>...</td>\n",
       "    </tr>\n",
       "    <tr>\n",
       "      <th>4123</th>\n",
       "      <td>rcnradio</td>\n",
       "      <td>2021-05-26</td>\n",
       "      <td>-0.692930</td>\n",
       "    </tr>\n",
       "    <tr>\n",
       "      <th>4124</th>\n",
       "      <td>rcnradio</td>\n",
       "      <td>2021-05-27</td>\n",
       "      <td>-0.619450</td>\n",
       "    </tr>\n",
       "    <tr>\n",
       "      <th>4125</th>\n",
       "      <td>rcnradio</td>\n",
       "      <td>2021-05-28</td>\n",
       "      <td>-0.528466</td>\n",
       "    </tr>\n",
       "    <tr>\n",
       "      <th>4126</th>\n",
       "      <td>rcnradio</td>\n",
       "      <td>2021-05-29</td>\n",
       "      <td>-0.505510</td>\n",
       "    </tr>\n",
       "    <tr>\n",
       "      <th>4127</th>\n",
       "      <td>rcnradio</td>\n",
       "      <td>2021-05-30</td>\n",
       "      <td>-0.533350</td>\n",
       "    </tr>\n",
       "  </tbody>\n",
       "</table>\n",
       "<p>4128 rows × 3 columns</p>\n",
       "</div>"
      ],
      "text/plain": [
       "       id_fuente        date  polaridad\n",
       "0     BluRadioCo  2020-10-09  -0.347026\n",
       "1     BluRadioCo  2020-10-10  -0.271511\n",
       "2     BluRadioCo  2020-10-11  -0.635847\n",
       "3     BluRadioCo  2020-10-25  -0.249044\n",
       "4     BluRadioCo  2020-10-26  -0.410109\n",
       "...          ...         ...        ...\n",
       "4123    rcnradio  2021-05-26  -0.692930\n",
       "4124    rcnradio  2021-05-27  -0.619450\n",
       "4125    rcnradio  2021-05-28  -0.528466\n",
       "4126    rcnradio  2021-05-29  -0.505510\n",
       "4127    rcnradio  2021-05-30  -0.533350\n",
       "\n",
       "[4128 rows x 3 columns]"
      ]
     },
     "execution_count": 7,
     "metadata": {},
     "output_type": "execute_result"
    }
   ],
   "source": [
    "datos_twitter=base_twitter[['id_fuente','date','polaridad']].groupby(['id_fuente','date']).mean().reset_index()\n",
    "datos_twitter"
   ]
  },
  {
   "cell_type": "code",
   "execution_count": 8,
   "id": "d034c1ea",
   "metadata": {},
   "outputs": [],
   "source": [
    "datos_twitter['date'] = pd.to_datetime(datos_twitter['date'])"
   ]
  },
  {
   "cell_type": "code",
   "execution_count": 9,
   "id": "6a2eef4d",
   "metadata": {},
   "outputs": [
    {
     "data": {
      "text/html": [
       "<div>\n",
       "<style scoped>\n",
       "    .dataframe tbody tr th:only-of-type {\n",
       "        vertical-align: middle;\n",
       "    }\n",
       "\n",
       "    .dataframe tbody tr th {\n",
       "        vertical-align: top;\n",
       "    }\n",
       "\n",
       "    .dataframe thead th {\n",
       "        text-align: right;\n",
       "    }\n",
       "</style>\n",
       "<table border=\"1\" class=\"dataframe\">\n",
       "  <thead>\n",
       "    <tr style=\"text-align: right;\">\n",
       "      <th></th>\n",
       "      <th>fuenteRss</th>\n",
       "      <th>date</th>\n",
       "      <th>polaridad</th>\n",
       "    </tr>\n",
       "  </thead>\n",
       "  <tbody>\n",
       "    <tr>\n",
       "      <th>0</th>\n",
       "      <td>http://elnacional.com.do/feed/</td>\n",
       "      <td>1/11/2020 04:00</td>\n",
       "      <td>-0.986164</td>\n",
       "    </tr>\n",
       "    <tr>\n",
       "      <th>1</th>\n",
       "      <td>http://elnacional.com.do/feed/</td>\n",
       "      <td>1/11/2020 12:00</td>\n",
       "      <td>-0.975831</td>\n",
       "    </tr>\n",
       "    <tr>\n",
       "      <th>2</th>\n",
       "      <td>http://elnacional.com.do/feed/</td>\n",
       "      <td>1/11/2020 12:09</td>\n",
       "      <td>-0.105395</td>\n",
       "    </tr>\n",
       "    <tr>\n",
       "      <th>3</th>\n",
       "      <td>http://elnacional.com.do/feed/</td>\n",
       "      <td>1/11/2020 12:41</td>\n",
       "      <td>0.157199</td>\n",
       "    </tr>\n",
       "    <tr>\n",
       "      <th>4</th>\n",
       "      <td>http://elnacional.com.do/feed/</td>\n",
       "      <td>1/11/2020 12:44</td>\n",
       "      <td>-0.378361</td>\n",
       "    </tr>\n",
       "    <tr>\n",
       "      <th>...</th>\n",
       "      <td>...</td>\n",
       "      <td>...</td>\n",
       "      <td>...</td>\n",
       "    </tr>\n",
       "    <tr>\n",
       "      <th>110015</th>\n",
       "      <td>https://www.reforma.com/rss/portada.xml</td>\n",
       "      <td>9/5/2021 05:02</td>\n",
       "      <td>-0.989599</td>\n",
       "    </tr>\n",
       "    <tr>\n",
       "      <th>110016</th>\n",
       "      <td>https://www.reforma.com/rss/portada.xml</td>\n",
       "      <td>9/5/2021 11:01</td>\n",
       "      <td>-0.810466</td>\n",
       "    </tr>\n",
       "    <tr>\n",
       "      <th>110017</th>\n",
       "      <td>https://www.reforma.com/rss/portada.xml</td>\n",
       "      <td>9/5/2021 15:19</td>\n",
       "      <td>0.423649</td>\n",
       "    </tr>\n",
       "    <tr>\n",
       "      <th>110018</th>\n",
       "      <td>https://www.reforma.com/rss/portada.xml</td>\n",
       "      <td>9/5/2021 15:49</td>\n",
       "      <td>-0.641010</td>\n",
       "    </tr>\n",
       "    <tr>\n",
       "      <th>110019</th>\n",
       "      <td>https://www.reforma.com/rss/portada.xml</td>\n",
       "      <td>9/5/2021 17:03</td>\n",
       "      <td>-0.166743</td>\n",
       "    </tr>\n",
       "  </tbody>\n",
       "</table>\n",
       "<p>110020 rows × 3 columns</p>\n",
       "</div>"
      ],
      "text/plain": [
       "                                      fuenteRss             date  polaridad\n",
       "0                http://elnacional.com.do/feed/  1/11/2020 04:00  -0.986164\n",
       "1                http://elnacional.com.do/feed/  1/11/2020 12:00  -0.975831\n",
       "2                http://elnacional.com.do/feed/  1/11/2020 12:09  -0.105395\n",
       "3                http://elnacional.com.do/feed/  1/11/2020 12:41   0.157199\n",
       "4                http://elnacional.com.do/feed/  1/11/2020 12:44  -0.378361\n",
       "...                                         ...              ...        ...\n",
       "110015  https://www.reforma.com/rss/portada.xml   9/5/2021 05:02  -0.989599\n",
       "110016  https://www.reforma.com/rss/portada.xml   9/5/2021 11:01  -0.810466\n",
       "110017  https://www.reforma.com/rss/portada.xml   9/5/2021 15:19   0.423649\n",
       "110018  https://www.reforma.com/rss/portada.xml   9/5/2021 15:49  -0.641010\n",
       "110019  https://www.reforma.com/rss/portada.xml   9/5/2021 17:03  -0.166743\n",
       "\n",
       "[110020 rows x 3 columns]"
      ]
     },
     "execution_count": 9,
     "metadata": {},
     "output_type": "execute_result"
    }
   ],
   "source": [
    "datos_rss=base_rss[['fuenteRss','date','polaridad']].groupby(['fuenteRss','date']).mean().reset_index()\n",
    "datos_rss"
   ]
  },
  {
   "cell_type": "code",
   "execution_count": 10,
   "id": "3424b019",
   "metadata": {},
   "outputs": [],
   "source": [
    "datos_rss['date'] = pd.to_datetime(datos_rss['date'])"
   ]
  },
  {
   "cell_type": "code",
   "execution_count": 11,
   "id": "6d520dc7",
   "metadata": {},
   "outputs": [],
   "source": [
    "##igualar rangos"
   ]
  },
  {
   "cell_type": "code",
   "execution_count": 12,
   "id": "15388806",
   "metadata": {},
   "outputs": [],
   "source": [
    "datos_trm=pd.read_csv (r'TranformacionBases_Java/TRM_total_adap_multi.csv', engine='python', encoding = \"ISO-8859-1\", sep=';')"
   ]
  },
  {
   "cell_type": "code",
   "execution_count": 13,
   "id": "eb28c789",
   "metadata": {},
   "outputs": [],
   "source": [
    "datos_trm=datos_trm[datos_trm['date']>=rango_indice[0]]\n",
    "datos_trm=datos_trm[datos_trm['date']<=rango_indice[1]]"
   ]
  },
  {
   "cell_type": "code",
   "execution_count": 14,
   "id": "62b6032f",
   "metadata": {},
   "outputs": [
    {
     "data": {
      "text/html": [
       "<div>\n",
       "<style scoped>\n",
       "    .dataframe tbody tr th:only-of-type {\n",
       "        vertical-align: middle;\n",
       "    }\n",
       "\n",
       "    .dataframe tbody tr th {\n",
       "        vertical-align: top;\n",
       "    }\n",
       "\n",
       "    .dataframe thead th {\n",
       "        text-align: right;\n",
       "    }\n",
       "</style>\n",
       "<table border=\"1\" class=\"dataframe\">\n",
       "  <thead>\n",
       "    <tr style=\"text-align: right;\">\n",
       "      <th></th>\n",
       "      <th>Fecha</th>\n",
       "      <th>fecha operación</th>\n",
       "      <th>TRM</th>\n",
       "      <th>Diferencia</th>\n",
       "      <th>Dia sem</th>\n",
       "      <th>nom Dia Sem</th>\n",
       "      <th>fin Semana</th>\n",
       "      <th>Dif Cero</th>\n",
       "      <th>date</th>\n",
       "    </tr>\n",
       "  </thead>\n",
       "  <tbody>\n",
       "    <tr>\n",
       "      <th>10515</th>\n",
       "      <td>10/9/2020</td>\n",
       "      <td>9/9/2020</td>\n",
       "      <td>3717.25</td>\n",
       "      <td>-39.96</td>\n",
       "      <td>4</td>\n",
       "      <td>mié</td>\n",
       "      <td>0</td>\n",
       "      <td>0</td>\n",
       "      <td>2020-09-09</td>\n",
       "    </tr>\n",
       "    <tr>\n",
       "      <th>10516</th>\n",
       "      <td>11/9/2020</td>\n",
       "      <td>10/9/2020</td>\n",
       "      <td>3700.28</td>\n",
       "      <td>-16.97</td>\n",
       "      <td>5</td>\n",
       "      <td>jue</td>\n",
       "      <td>0</td>\n",
       "      <td>0</td>\n",
       "      <td>2020-09-10</td>\n",
       "    </tr>\n",
       "    <tr>\n",
       "      <th>10517</th>\n",
       "      <td>12/9/2020</td>\n",
       "      <td>11/9/2020</td>\n",
       "      <td>3709.00</td>\n",
       "      <td>8.72</td>\n",
       "      <td>6</td>\n",
       "      <td>vie</td>\n",
       "      <td>0</td>\n",
       "      <td>0</td>\n",
       "      <td>2020-09-11</td>\n",
       "    </tr>\n",
       "    <tr>\n",
       "      <th>10518</th>\n",
       "      <td>13/9/2020</td>\n",
       "      <td>12/9/2020</td>\n",
       "      <td>3709.00</td>\n",
       "      <td>0.00</td>\n",
       "      <td>7</td>\n",
       "      <td>sáb</td>\n",
       "      <td>1</td>\n",
       "      <td>1</td>\n",
       "      <td>2020-09-12</td>\n",
       "    </tr>\n",
       "    <tr>\n",
       "      <th>10519</th>\n",
       "      <td>14/9/2020</td>\n",
       "      <td>13/9/2020</td>\n",
       "      <td>3709.00</td>\n",
       "      <td>0.00</td>\n",
       "      <td>1</td>\n",
       "      <td>dom</td>\n",
       "      <td>1</td>\n",
       "      <td>1</td>\n",
       "      <td>2020-09-13</td>\n",
       "    </tr>\n",
       "    <tr>\n",
       "      <th>...</th>\n",
       "      <td>...</td>\n",
       "      <td>...</td>\n",
       "      <td>...</td>\n",
       "      <td>...</td>\n",
       "      <td>...</td>\n",
       "      <td>...</td>\n",
       "      <td>...</td>\n",
       "      <td>...</td>\n",
       "      <td>...</td>\n",
       "    </tr>\n",
       "    <tr>\n",
       "      <th>10762</th>\n",
       "      <td>15/5/2021</td>\n",
       "      <td>14/5/2021</td>\n",
       "      <td>3682.84</td>\n",
       "      <td>-45.25</td>\n",
       "      <td>6</td>\n",
       "      <td>vie</td>\n",
       "      <td>0</td>\n",
       "      <td>0</td>\n",
       "      <td>2021-05-14</td>\n",
       "    </tr>\n",
       "    <tr>\n",
       "      <th>10763</th>\n",
       "      <td>16/5/2021</td>\n",
       "      <td>15/5/2021</td>\n",
       "      <td>3682.84</td>\n",
       "      <td>0.00</td>\n",
       "      <td>7</td>\n",
       "      <td>sáb</td>\n",
       "      <td>1</td>\n",
       "      <td>1</td>\n",
       "      <td>2021-05-15</td>\n",
       "    </tr>\n",
       "    <tr>\n",
       "      <th>10764</th>\n",
       "      <td>17/5/2021</td>\n",
       "      <td>16/5/2021</td>\n",
       "      <td>3682.84</td>\n",
       "      <td>0.00</td>\n",
       "      <td>1</td>\n",
       "      <td>dom</td>\n",
       "      <td>1</td>\n",
       "      <td>1</td>\n",
       "      <td>2021-05-16</td>\n",
       "    </tr>\n",
       "    <tr>\n",
       "      <th>10765</th>\n",
       "      <td>18/5/2021</td>\n",
       "      <td>17/5/2021</td>\n",
       "      <td>3682.84</td>\n",
       "      <td>0.00</td>\n",
       "      <td>2</td>\n",
       "      <td>lun</td>\n",
       "      <td>0</td>\n",
       "      <td>1</td>\n",
       "      <td>2021-05-17</td>\n",
       "    </tr>\n",
       "    <tr>\n",
       "      <th>10766</th>\n",
       "      <td>19/5/2021</td>\n",
       "      <td>18/5/2021</td>\n",
       "      <td>3655.74</td>\n",
       "      <td>-27.10</td>\n",
       "      <td>3</td>\n",
       "      <td>mar</td>\n",
       "      <td>0</td>\n",
       "      <td>0</td>\n",
       "      <td>2021-05-18</td>\n",
       "    </tr>\n",
       "  </tbody>\n",
       "</table>\n",
       "<p>252 rows × 9 columns</p>\n",
       "</div>"
      ],
      "text/plain": [
       "           Fecha fecha operación      TRM  Diferencia  Dia sem nom Dia Sem  \\\n",
       "10515  10/9/2020        9/9/2020  3717.25      -39.96        4         mié   \n",
       "10516  11/9/2020       10/9/2020  3700.28      -16.97        5         jue   \n",
       "10517  12/9/2020       11/9/2020  3709.00        8.72        6         vie   \n",
       "10518  13/9/2020       12/9/2020  3709.00        0.00        7         sáb   \n",
       "10519  14/9/2020       13/9/2020  3709.00        0.00        1         dom   \n",
       "...          ...             ...      ...         ...      ...         ...   \n",
       "10762  15/5/2021       14/5/2021  3682.84      -45.25        6         vie   \n",
       "10763  16/5/2021       15/5/2021  3682.84        0.00        7         sáb   \n",
       "10764  17/5/2021       16/5/2021  3682.84        0.00        1         dom   \n",
       "10765  18/5/2021       17/5/2021  3682.84        0.00        2         lun   \n",
       "10766  19/5/2021       18/5/2021  3655.74      -27.10        3         mar   \n",
       "\n",
       "       fin Semana  Dif Cero        date  \n",
       "10515           0         0  2020-09-09  \n",
       "10516           0         0  2020-09-10  \n",
       "10517           0         0  2020-09-11  \n",
       "10518           1         1  2020-09-12  \n",
       "10519           1         1  2020-09-13  \n",
       "...           ...       ...         ...  \n",
       "10762           0         0  2021-05-14  \n",
       "10763           1         1  2021-05-15  \n",
       "10764           1         1  2021-05-16  \n",
       "10765           0         1  2021-05-17  \n",
       "10766           0         0  2021-05-18  \n",
       "\n",
       "[252 rows x 9 columns]"
      ]
     },
     "execution_count": 14,
     "metadata": {},
     "output_type": "execute_result"
    }
   ],
   "source": [
    "datos_trm"
   ]
  },
  {
   "cell_type": "code",
   "execution_count": 15,
   "id": "0c62cddd",
   "metadata": {},
   "outputs": [],
   "source": [
    "datos_trm['date'] = pd.to_datetime(datos_trm['date'])"
   ]
  },
  {
   "cell_type": "code",
   "execution_count": 16,
   "id": "0852d845",
   "metadata": {},
   "outputs": [],
   "source": [
    "datos_twitter.columns=['fuente','date','polaridad']\n",
    "datos_rss.columns=['fuente','date','polaridad']"
   ]
  },
  {
   "cell_type": "code",
   "execution_count": 17,
   "id": "c4ab4e84",
   "metadata": {},
   "outputs": [
    {
     "data": {
      "text/html": [
       "<div>\n",
       "<style scoped>\n",
       "    .dataframe tbody tr th:only-of-type {\n",
       "        vertical-align: middle;\n",
       "    }\n",
       "\n",
       "    .dataframe tbody tr th {\n",
       "        vertical-align: top;\n",
       "    }\n",
       "\n",
       "    .dataframe thead th {\n",
       "        text-align: right;\n",
       "    }\n",
       "</style>\n",
       "<table border=\"1\" class=\"dataframe\">\n",
       "  <thead>\n",
       "    <tr style=\"text-align: right;\">\n",
       "      <th></th>\n",
       "      <th>fuente</th>\n",
       "      <th>date</th>\n",
       "      <th>polaridad</th>\n",
       "    </tr>\n",
       "  </thead>\n",
       "  <tbody>\n",
       "    <tr>\n",
       "      <th>0</th>\n",
       "      <td>http://elnacional.com.do/feed/</td>\n",
       "      <td>2020-01-11 04:00:00</td>\n",
       "      <td>-0.986164</td>\n",
       "    </tr>\n",
       "    <tr>\n",
       "      <th>1</th>\n",
       "      <td>http://elnacional.com.do/feed/</td>\n",
       "      <td>2020-01-11 12:00:00</td>\n",
       "      <td>-0.975831</td>\n",
       "    </tr>\n",
       "    <tr>\n",
       "      <th>2</th>\n",
       "      <td>http://elnacional.com.do/feed/</td>\n",
       "      <td>2020-01-11 12:09:00</td>\n",
       "      <td>-0.105395</td>\n",
       "    </tr>\n",
       "    <tr>\n",
       "      <th>3</th>\n",
       "      <td>http://elnacional.com.do/feed/</td>\n",
       "      <td>2020-01-11 12:41:00</td>\n",
       "      <td>0.157199</td>\n",
       "    </tr>\n",
       "    <tr>\n",
       "      <th>4</th>\n",
       "      <td>http://elnacional.com.do/feed/</td>\n",
       "      <td>2020-01-11 12:44:00</td>\n",
       "      <td>-0.378361</td>\n",
       "    </tr>\n",
       "    <tr>\n",
       "      <th>...</th>\n",
       "      <td>...</td>\n",
       "      <td>...</td>\n",
       "      <td>...</td>\n",
       "    </tr>\n",
       "    <tr>\n",
       "      <th>110015</th>\n",
       "      <td>https://www.reforma.com/rss/portada.xml</td>\n",
       "      <td>2021-09-05 05:02:00</td>\n",
       "      <td>-0.989599</td>\n",
       "    </tr>\n",
       "    <tr>\n",
       "      <th>110016</th>\n",
       "      <td>https://www.reforma.com/rss/portada.xml</td>\n",
       "      <td>2021-09-05 11:01:00</td>\n",
       "      <td>-0.810466</td>\n",
       "    </tr>\n",
       "    <tr>\n",
       "      <th>110017</th>\n",
       "      <td>https://www.reforma.com/rss/portada.xml</td>\n",
       "      <td>2021-09-05 15:19:00</td>\n",
       "      <td>0.423649</td>\n",
       "    </tr>\n",
       "    <tr>\n",
       "      <th>110018</th>\n",
       "      <td>https://www.reforma.com/rss/portada.xml</td>\n",
       "      <td>2021-09-05 15:49:00</td>\n",
       "      <td>-0.641010</td>\n",
       "    </tr>\n",
       "    <tr>\n",
       "      <th>110019</th>\n",
       "      <td>https://www.reforma.com/rss/portada.xml</td>\n",
       "      <td>2021-09-05 17:03:00</td>\n",
       "      <td>-0.166743</td>\n",
       "    </tr>\n",
       "  </tbody>\n",
       "</table>\n",
       "<p>110020 rows × 3 columns</p>\n",
       "</div>"
      ],
      "text/plain": [
       "                                         fuente                date  polaridad\n",
       "0                http://elnacional.com.do/feed/ 2020-01-11 04:00:00  -0.986164\n",
       "1                http://elnacional.com.do/feed/ 2020-01-11 12:00:00  -0.975831\n",
       "2                http://elnacional.com.do/feed/ 2020-01-11 12:09:00  -0.105395\n",
       "3                http://elnacional.com.do/feed/ 2020-01-11 12:41:00   0.157199\n",
       "4                http://elnacional.com.do/feed/ 2020-01-11 12:44:00  -0.378361\n",
       "...                                         ...                 ...        ...\n",
       "110015  https://www.reforma.com/rss/portada.xml 2021-09-05 05:02:00  -0.989599\n",
       "110016  https://www.reforma.com/rss/portada.xml 2021-09-05 11:01:00  -0.810466\n",
       "110017  https://www.reforma.com/rss/portada.xml 2021-09-05 15:19:00   0.423649\n",
       "110018  https://www.reforma.com/rss/portada.xml 2021-09-05 15:49:00  -0.641010\n",
       "110019  https://www.reforma.com/rss/portada.xml 2021-09-05 17:03:00  -0.166743\n",
       "\n",
       "[110020 rows x 3 columns]"
      ]
     },
     "execution_count": 17,
     "metadata": {},
     "output_type": "execute_result"
    }
   ],
   "source": [
    "datos_rss"
   ]
  },
  {
   "cell_type": "code",
   "execution_count": 18,
   "id": "231f9a72",
   "metadata": {},
   "outputs": [],
   "source": [
    "datos_lectura=datos_twitter.append(datos_rss)"
   ]
  },
  {
   "cell_type": "code",
   "execution_count": 19,
   "id": "daa3b233",
   "metadata": {},
   "outputs": [
    {
     "data": {
      "text/html": [
       "<div>\n",
       "<style scoped>\n",
       "    .dataframe tbody tr th:only-of-type {\n",
       "        vertical-align: middle;\n",
       "    }\n",
       "\n",
       "    .dataframe tbody tr th {\n",
       "        vertical-align: top;\n",
       "    }\n",
       "\n",
       "    .dataframe thead th {\n",
       "        text-align: right;\n",
       "    }\n",
       "</style>\n",
       "<table border=\"1\" class=\"dataframe\">\n",
       "  <thead>\n",
       "    <tr style=\"text-align: right;\">\n",
       "      <th></th>\n",
       "      <th>fuente</th>\n",
       "      <th>date</th>\n",
       "      <th>polaridad</th>\n",
       "    </tr>\n",
       "  </thead>\n",
       "  <tbody>\n",
       "    <tr>\n",
       "      <th>0</th>\n",
       "      <td>BluRadioCo</td>\n",
       "      <td>2020-10-09 00:00:00</td>\n",
       "      <td>-0.347026</td>\n",
       "    </tr>\n",
       "    <tr>\n",
       "      <th>1</th>\n",
       "      <td>BluRadioCo</td>\n",
       "      <td>2020-10-10 00:00:00</td>\n",
       "      <td>-0.271511</td>\n",
       "    </tr>\n",
       "    <tr>\n",
       "      <th>2</th>\n",
       "      <td>BluRadioCo</td>\n",
       "      <td>2020-10-11 00:00:00</td>\n",
       "      <td>-0.635847</td>\n",
       "    </tr>\n",
       "    <tr>\n",
       "      <th>3</th>\n",
       "      <td>BluRadioCo</td>\n",
       "      <td>2020-10-25 00:00:00</td>\n",
       "      <td>-0.249044</td>\n",
       "    </tr>\n",
       "    <tr>\n",
       "      <th>4</th>\n",
       "      <td>BluRadioCo</td>\n",
       "      <td>2020-10-26 00:00:00</td>\n",
       "      <td>-0.410109</td>\n",
       "    </tr>\n",
       "    <tr>\n",
       "      <th>...</th>\n",
       "      <td>...</td>\n",
       "      <td>...</td>\n",
       "      <td>...</td>\n",
       "    </tr>\n",
       "    <tr>\n",
       "      <th>110015</th>\n",
       "      <td>https://www.reforma.com/rss/portada.xml</td>\n",
       "      <td>2021-09-05 05:02:00</td>\n",
       "      <td>-0.989599</td>\n",
       "    </tr>\n",
       "    <tr>\n",
       "      <th>110016</th>\n",
       "      <td>https://www.reforma.com/rss/portada.xml</td>\n",
       "      <td>2021-09-05 11:01:00</td>\n",
       "      <td>-0.810466</td>\n",
       "    </tr>\n",
       "    <tr>\n",
       "      <th>110017</th>\n",
       "      <td>https://www.reforma.com/rss/portada.xml</td>\n",
       "      <td>2021-09-05 15:19:00</td>\n",
       "      <td>0.423649</td>\n",
       "    </tr>\n",
       "    <tr>\n",
       "      <th>110018</th>\n",
       "      <td>https://www.reforma.com/rss/portada.xml</td>\n",
       "      <td>2021-09-05 15:49:00</td>\n",
       "      <td>-0.641010</td>\n",
       "    </tr>\n",
       "    <tr>\n",
       "      <th>110019</th>\n",
       "      <td>https://www.reforma.com/rss/portada.xml</td>\n",
       "      <td>2021-09-05 17:03:00</td>\n",
       "      <td>-0.166743</td>\n",
       "    </tr>\n",
       "  </tbody>\n",
       "</table>\n",
       "<p>114148 rows × 3 columns</p>\n",
       "</div>"
      ],
      "text/plain": [
       "                                         fuente                date  polaridad\n",
       "0                                    BluRadioCo 2020-10-09 00:00:00  -0.347026\n",
       "1                                    BluRadioCo 2020-10-10 00:00:00  -0.271511\n",
       "2                                    BluRadioCo 2020-10-11 00:00:00  -0.635847\n",
       "3                                    BluRadioCo 2020-10-25 00:00:00  -0.249044\n",
       "4                                    BluRadioCo 2020-10-26 00:00:00  -0.410109\n",
       "...                                         ...                 ...        ...\n",
       "110015  https://www.reforma.com/rss/portada.xml 2021-09-05 05:02:00  -0.989599\n",
       "110016  https://www.reforma.com/rss/portada.xml 2021-09-05 11:01:00  -0.810466\n",
       "110017  https://www.reforma.com/rss/portada.xml 2021-09-05 15:19:00   0.423649\n",
       "110018  https://www.reforma.com/rss/portada.xml 2021-09-05 15:49:00  -0.641010\n",
       "110019  https://www.reforma.com/rss/portada.xml 2021-09-05 17:03:00  -0.166743\n",
       "\n",
       "[114148 rows x 3 columns]"
      ]
     },
     "execution_count": 19,
     "metadata": {},
     "output_type": "execute_result"
    }
   ],
   "source": [
    "datos_lectura"
   ]
  },
  {
   "cell_type": "code",
   "execution_count": 20,
   "id": "717e8f78",
   "metadata": {},
   "outputs": [],
   "source": [
    "datos_lectura=datos_lectura[datos_lectura['polaridad']!=0]"
   ]
  },
  {
   "cell_type": "markdown",
   "id": "1528a103",
   "metadata": {},
   "source": [
    "## Carga Maestro Fuentes"
   ]
  },
  {
   "cell_type": "code",
   "execution_count": 21,
   "id": "247eed8f",
   "metadata": {},
   "outputs": [],
   "source": [
    "base_maestro_fuentes = pd.read_csv (r'TranformacionBases_Java/maestro_fuentes.csv', engine='python', encoding = \"ISO-8859-1\", sep=';')"
   ]
  },
  {
   "cell_type": "code",
   "execution_count": 22,
   "id": "e7496a04",
   "metadata": {},
   "outputs": [
    {
     "data": {
      "text/html": [
       "<div>\n",
       "<style scoped>\n",
       "    .dataframe tbody tr th:only-of-type {\n",
       "        vertical-align: middle;\n",
       "    }\n",
       "\n",
       "    .dataframe tbody tr th {\n",
       "        vertical-align: top;\n",
       "    }\n",
       "\n",
       "    .dataframe thead th {\n",
       "        text-align: right;\n",
       "    }\n",
       "</style>\n",
       "<table border=\"1\" class=\"dataframe\">\n",
       "  <thead>\n",
       "    <tr style=\"text-align: right;\">\n",
       "      <th></th>\n",
       "      <th>index</th>\n",
       "      <th>fuente</th>\n",
       "      <th>tipo</th>\n",
       "    </tr>\n",
       "  </thead>\n",
       "  <tbody>\n",
       "    <tr>\n",
       "      <th>0</th>\n",
       "      <td>0</td>\n",
       "      <td>http://elnacional.com.do/feed/</td>\n",
       "      <td>rss</td>\n",
       "    </tr>\n",
       "    <tr>\n",
       "      <th>1</th>\n",
       "      <td>1</td>\n",
       "      <td>http://ep00.epimg.net/rss/economia/portada.xml</td>\n",
       "      <td>rss</td>\n",
       "    </tr>\n",
       "    <tr>\n",
       "      <th>2</th>\n",
       "      <td>2</td>\n",
       "      <td>http://ep00.epimg.net/rss/tags/ultimas_noticia...</td>\n",
       "      <td>rss</td>\n",
       "    </tr>\n",
       "    <tr>\n",
       "      <th>3</th>\n",
       "      <td>3</td>\n",
       "      <td>http://feeds.nytimes.com/nyt/rss/Business</td>\n",
       "      <td>rss</td>\n",
       "    </tr>\n",
       "    <tr>\n",
       "      <th>4</th>\n",
       "      <td>4</td>\n",
       "      <td>http://feeds.nytimes.com/nyt/rss/Technology</td>\n",
       "      <td>rss</td>\n",
       "    </tr>\n",
       "    <tr>\n",
       "      <th>...</th>\n",
       "      <td>...</td>\n",
       "      <td>...</td>\n",
       "      <td>...</td>\n",
       "    </tr>\n",
       "    <tr>\n",
       "      <th>132</th>\n",
       "      <td>132</td>\n",
       "      <td>elcolombiano</td>\n",
       "      <td>twitter</td>\n",
       "    </tr>\n",
       "    <tr>\n",
       "      <th>133</th>\n",
       "      <td>133</td>\n",
       "      <td>elespectador</td>\n",
       "      <td>twitter</td>\n",
       "    </tr>\n",
       "    <tr>\n",
       "      <th>134</th>\n",
       "      <td>134</td>\n",
       "      <td>lafm</td>\n",
       "      <td>twitter</td>\n",
       "    </tr>\n",
       "    <tr>\n",
       "      <th>135</th>\n",
       "      <td>135</td>\n",
       "      <td>rcnmundo</td>\n",
       "      <td>twitter</td>\n",
       "    </tr>\n",
       "    <tr>\n",
       "      <th>136</th>\n",
       "      <td>136</td>\n",
       "      <td>rcnradio</td>\n",
       "      <td>twitter</td>\n",
       "    </tr>\n",
       "  </tbody>\n",
       "</table>\n",
       "<p>137 rows × 3 columns</p>\n",
       "</div>"
      ],
      "text/plain": [
       "     index                                             fuente     tipo\n",
       "0        0                     http://elnacional.com.do/feed/      rss\n",
       "1        1     http://ep00.epimg.net/rss/economia/portada.xml      rss\n",
       "2        2  http://ep00.epimg.net/rss/tags/ultimas_noticia...      rss\n",
       "3        3          http://feeds.nytimes.com/nyt/rss/Business      rss\n",
       "4        4        http://feeds.nytimes.com/nyt/rss/Technology      rss\n",
       "..     ...                                                ...      ...\n",
       "132    132                                       elcolombiano  twitter\n",
       "133    133                                       elespectador  twitter\n",
       "134    134                                               lafm  twitter\n",
       "135    135                                           rcnmundo  twitter\n",
       "136    136                                           rcnradio  twitter\n",
       "\n",
       "[137 rows x 3 columns]"
      ]
     },
     "execution_count": 22,
     "metadata": {},
     "output_type": "execute_result"
    }
   ],
   "source": [
    "base_maestro_fuentes.reset_index()"
   ]
  },
  {
   "cell_type": "code",
   "execution_count": 23,
   "id": "fb9abbab",
   "metadata": {},
   "outputs": [
    {
     "data": {
      "text/html": [
       "<div>\n",
       "<style scoped>\n",
       "    .dataframe tbody tr th:only-of-type {\n",
       "        vertical-align: middle;\n",
       "    }\n",
       "\n",
       "    .dataframe tbody tr th {\n",
       "        vertical-align: top;\n",
       "    }\n",
       "\n",
       "    .dataframe thead th {\n",
       "        text-align: right;\n",
       "    }\n",
       "</style>\n",
       "<table border=\"1\" class=\"dataframe\">\n",
       "  <thead>\n",
       "    <tr style=\"text-align: right;\">\n",
       "      <th></th>\n",
       "      <th>fuente</th>\n",
       "      <th>date</th>\n",
       "      <th>polaridad</th>\n",
       "      <th>index</th>\n",
       "      <th>tipo</th>\n",
       "    </tr>\n",
       "  </thead>\n",
       "  <tbody>\n",
       "    <tr>\n",
       "      <th>0</th>\n",
       "      <td>BluRadioCo</td>\n",
       "      <td>2020-10-09 00:00:00</td>\n",
       "      <td>-0.347026</td>\n",
       "      <td>118</td>\n",
       "      <td>twitter</td>\n",
       "    </tr>\n",
       "    <tr>\n",
       "      <th>1</th>\n",
       "      <td>BluRadioCo</td>\n",
       "      <td>2020-10-10 00:00:00</td>\n",
       "      <td>-0.271511</td>\n",
       "      <td>118</td>\n",
       "      <td>twitter</td>\n",
       "    </tr>\n",
       "    <tr>\n",
       "      <th>2</th>\n",
       "      <td>BluRadioCo</td>\n",
       "      <td>2020-10-11 00:00:00</td>\n",
       "      <td>-0.635847</td>\n",
       "      <td>118</td>\n",
       "      <td>twitter</td>\n",
       "    </tr>\n",
       "    <tr>\n",
       "      <th>3</th>\n",
       "      <td>BluRadioCo</td>\n",
       "      <td>2020-10-25 00:00:00</td>\n",
       "      <td>-0.249044</td>\n",
       "      <td>118</td>\n",
       "      <td>twitter</td>\n",
       "    </tr>\n",
       "    <tr>\n",
       "      <th>4</th>\n",
       "      <td>BluRadioCo</td>\n",
       "      <td>2020-10-26 00:00:00</td>\n",
       "      <td>-0.410109</td>\n",
       "      <td>118</td>\n",
       "      <td>twitter</td>\n",
       "    </tr>\n",
       "    <tr>\n",
       "      <th>...</th>\n",
       "      <td>...</td>\n",
       "      <td>...</td>\n",
       "      <td>...</td>\n",
       "      <td>...</td>\n",
       "      <td>...</td>\n",
       "    </tr>\n",
       "    <tr>\n",
       "      <th>104999</th>\n",
       "      <td>https://www.reforma.com/rss/portada.xml</td>\n",
       "      <td>2021-09-05 05:02:00</td>\n",
       "      <td>-0.989599</td>\n",
       "      <td>117</td>\n",
       "      <td>rss</td>\n",
       "    </tr>\n",
       "    <tr>\n",
       "      <th>105000</th>\n",
       "      <td>https://www.reforma.com/rss/portada.xml</td>\n",
       "      <td>2021-09-05 11:01:00</td>\n",
       "      <td>-0.810466</td>\n",
       "      <td>117</td>\n",
       "      <td>rss</td>\n",
       "    </tr>\n",
       "    <tr>\n",
       "      <th>105001</th>\n",
       "      <td>https://www.reforma.com/rss/portada.xml</td>\n",
       "      <td>2021-09-05 15:19:00</td>\n",
       "      <td>0.423649</td>\n",
       "      <td>117</td>\n",
       "      <td>rss</td>\n",
       "    </tr>\n",
       "    <tr>\n",
       "      <th>105002</th>\n",
       "      <td>https://www.reforma.com/rss/portada.xml</td>\n",
       "      <td>2021-09-05 15:49:00</td>\n",
       "      <td>-0.641010</td>\n",
       "      <td>117</td>\n",
       "      <td>rss</td>\n",
       "    </tr>\n",
       "    <tr>\n",
       "      <th>105003</th>\n",
       "      <td>https://www.reforma.com/rss/portada.xml</td>\n",
       "      <td>2021-09-05 17:03:00</td>\n",
       "      <td>-0.166743</td>\n",
       "      <td>117</td>\n",
       "      <td>rss</td>\n",
       "    </tr>\n",
       "  </tbody>\n",
       "</table>\n",
       "<p>105004 rows × 5 columns</p>\n",
       "</div>"
      ],
      "text/plain": [
       "                                         fuente                date  \\\n",
       "0                                    BluRadioCo 2020-10-09 00:00:00   \n",
       "1                                    BluRadioCo 2020-10-10 00:00:00   \n",
       "2                                    BluRadioCo 2020-10-11 00:00:00   \n",
       "3                                    BluRadioCo 2020-10-25 00:00:00   \n",
       "4                                    BluRadioCo 2020-10-26 00:00:00   \n",
       "...                                         ...                 ...   \n",
       "104999  https://www.reforma.com/rss/portada.xml 2021-09-05 05:02:00   \n",
       "105000  https://www.reforma.com/rss/portada.xml 2021-09-05 11:01:00   \n",
       "105001  https://www.reforma.com/rss/portada.xml 2021-09-05 15:19:00   \n",
       "105002  https://www.reforma.com/rss/portada.xml 2021-09-05 15:49:00   \n",
       "105003  https://www.reforma.com/rss/portada.xml 2021-09-05 17:03:00   \n",
       "\n",
       "        polaridad  index     tipo  \n",
       "0       -0.347026    118  twitter  \n",
       "1       -0.271511    118  twitter  \n",
       "2       -0.635847    118  twitter  \n",
       "3       -0.249044    118  twitter  \n",
       "4       -0.410109    118  twitter  \n",
       "...           ...    ...      ...  \n",
       "104999  -0.989599    117      rss  \n",
       "105000  -0.810466    117      rss  \n",
       "105001   0.423649    117      rss  \n",
       "105002  -0.641010    117      rss  \n",
       "105003  -0.166743    117      rss  \n",
       "\n",
       "[105004 rows x 5 columns]"
      ]
     },
     "execution_count": 23,
     "metadata": {},
     "output_type": "execute_result"
    }
   ],
   "source": [
    "datos_lectura=datos_lectura.merge(base_maestro_fuentes.reset_index(), left_on='fuente', right_on='fuente', how='left')\n",
    "datos_lectura"
   ]
  },
  {
   "cell_type": "markdown",
   "id": "c6c7efb4",
   "metadata": {},
   "source": [
    "## Calendario"
   ]
  },
  {
   "cell_type": "code",
   "execution_count": 24,
   "id": "b1410576",
   "metadata": {},
   "outputs": [],
   "source": [
    "calendario = pd.DataFrame({\"Date\": pd.date_range(rango_indice[0], rango_indice[1])})"
   ]
  },
  {
   "cell_type": "code",
   "execution_count": 25,
   "id": "9e52168d",
   "metadata": {},
   "outputs": [
    {
     "data": {
      "text/html": [
       "<div>\n",
       "<style scoped>\n",
       "    .dataframe tbody tr th:only-of-type {\n",
       "        vertical-align: middle;\n",
       "    }\n",
       "\n",
       "    .dataframe tbody tr th {\n",
       "        vertical-align: top;\n",
       "    }\n",
       "\n",
       "    .dataframe thead th {\n",
       "        text-align: right;\n",
       "    }\n",
       "</style>\n",
       "<table border=\"1\" class=\"dataframe\">\n",
       "  <thead>\n",
       "    <tr style=\"text-align: right;\">\n",
       "      <th></th>\n",
       "      <th>Date</th>\n",
       "    </tr>\n",
       "  </thead>\n",
       "  <tbody>\n",
       "    <tr>\n",
       "      <th>0</th>\n",
       "      <td>2020-09-09</td>\n",
       "    </tr>\n",
       "    <tr>\n",
       "      <th>1</th>\n",
       "      <td>2020-09-10</td>\n",
       "    </tr>\n",
       "    <tr>\n",
       "      <th>2</th>\n",
       "      <td>2020-09-11</td>\n",
       "    </tr>\n",
       "    <tr>\n",
       "      <th>3</th>\n",
       "      <td>2020-09-12</td>\n",
       "    </tr>\n",
       "    <tr>\n",
       "      <th>4</th>\n",
       "      <td>2020-09-13</td>\n",
       "    </tr>\n",
       "    <tr>\n",
       "      <th>...</th>\n",
       "      <td>...</td>\n",
       "    </tr>\n",
       "    <tr>\n",
       "      <th>247</th>\n",
       "      <td>2021-05-14</td>\n",
       "    </tr>\n",
       "    <tr>\n",
       "      <th>248</th>\n",
       "      <td>2021-05-15</td>\n",
       "    </tr>\n",
       "    <tr>\n",
       "      <th>249</th>\n",
       "      <td>2021-05-16</td>\n",
       "    </tr>\n",
       "    <tr>\n",
       "      <th>250</th>\n",
       "      <td>2021-05-17</td>\n",
       "    </tr>\n",
       "    <tr>\n",
       "      <th>251</th>\n",
       "      <td>2021-05-18</td>\n",
       "    </tr>\n",
       "  </tbody>\n",
       "</table>\n",
       "<p>252 rows × 1 columns</p>\n",
       "</div>"
      ],
      "text/plain": [
       "          Date\n",
       "0   2020-09-09\n",
       "1   2020-09-10\n",
       "2   2020-09-11\n",
       "3   2020-09-12\n",
       "4   2020-09-13\n",
       "..         ...\n",
       "247 2021-05-14\n",
       "248 2021-05-15\n",
       "249 2021-05-16\n",
       "250 2021-05-17\n",
       "251 2021-05-18\n",
       "\n",
       "[252 rows x 1 columns]"
      ]
     },
     "execution_count": 25,
     "metadata": {},
     "output_type": "execute_result"
    }
   ],
   "source": [
    "calendario"
   ]
  },
  {
   "cell_type": "markdown",
   "id": "a705df00",
   "metadata": {},
   "source": [
    "# Parametros Globales"
   ]
  },
  {
   "cell_type": "code",
   "execution_count": 26,
   "id": "c384c762",
   "metadata": {},
   "outputs": [],
   "source": [
    "#AGENTES\n",
    "NUM_FUENTES_TOTATALES=137\n",
    "NUM_FUENTES_INTERPRETACION=5"
   ]
  },
  {
   "cell_type": "code",
   "execution_count": 27,
   "id": "736bfd4d",
   "metadata": {},
   "outputs": [],
   "source": [
    "#UNIVERSO\n",
    "POBLACION_INICIAL=100\n",
    "CANT_COMPRADORES=0.7\n",
    "\n",
    "#LIMITE_QUIEBRA=1000\n",
    "LIMITE_QUIEBRA=10000000\n",
    "MAX_GENERACION_AGENTES=0.2\n",
    "\n",
    "POBLACION_ACTUAL=0"
   ]
  },
  {
   "cell_type": "code",
   "execution_count": 28,
   "id": "9e030a47",
   "metadata": {},
   "outputs": [],
   "source": [
    "FECHA_PULSO=36   #fecha inicial con información suficiente"
   ]
  },
  {
   "cell_type": "code",
   "execution_count": 29,
   "id": "ce8b3ab3",
   "metadata": {},
   "outputs": [],
   "source": [
    "VALOR_MOMENTO_INDICE=datos_trm[datos_trm['date']<=calendario.iloc[FECHA_PULSO]['Date']].iloc[-1]['TRM']"
   ]
  },
  {
   "cell_type": "code",
   "execution_count": 30,
   "id": "28a21718",
   "metadata": {},
   "outputs": [
    {
     "data": {
      "text/plain": [
       "3854.47"
      ]
     },
     "execution_count": 30,
     "metadata": {},
     "output_type": "execute_result"
    }
   ],
   "source": [
    "VALOR_MOMENTO_INDICE"
   ]
  },
  {
   "cell_type": "code",
   "execution_count": 31,
   "id": "82e243d7",
   "metadata": {},
   "outputs": [],
   "source": [
    "DF_TRANSACCIONES=pd.DataFrame(columns=['idComprador','idVendedor','cantidadTransaccion','precioTransaccion','fechaPulso']) ###llevar antes al algoritmo"
   ]
  },
  {
   "cell_type": "code",
   "execution_count": 32,
   "id": "699f5132",
   "metadata": {},
   "outputs": [],
   "source": [
    "compradores=[]\n",
    "vendedores=[]"
   ]
  },
  {
   "cell_type": "markdown",
   "id": "0635467c",
   "metadata": {},
   "source": [
    "# Agente"
   ]
  },
  {
   "cell_type": "code",
   "execution_count": 33,
   "id": "c220c4c9",
   "metadata": {},
   "outputs": [],
   "source": [
    "def crearAgente(id,tipo): #quizas falta el valor del var econ,\n",
    "    agente={}\n",
    "    agente['TIPO']=tipo\n",
    "    agente['id']=id\n",
    "    agente['edad']=0\n",
    "    agente['capital']= randrange(1000,1000000000)\n",
    "    agente['stockProducto']=randrange(10,1000000)\n",
    "    agente['umbralStock']=randrange(10,1000000)\n",
    "    agente['habilidadAdministrativa']=random.uniform(-0.02, 0.5)\n",
    "    agente['tasaConsumo']=random.uniform(0.1, 0.5)\n",
    "    if agente['TIPO']=='Comprador':\n",
    "        agente['rentabilidad']=random.uniform(0.1, 0.2)\n",
    "    elif agente['TIPO']=='Vendedor':\n",
    "        agente['rentabilidad']=random.uniform(0.2, 0.6)\n",
    "    agente['tamanoRegresion']= randrange(5,20)\n",
    "    # perfilIntereses  No aplica\n",
    "    agente['impactoTextos']=random.uniform(-1, 1)\n",
    "    agente['estrategiaLectura']=[0]*NUM_FUENTES_INTERPRETACION\n",
    "    agente['estrategiaLectura_imp']=[0]*NUM_FUENTES_INTERPRETACION\n",
    "    for i in range(NUM_FUENTES_INTERPRETACION):\n",
    "        agente['estrategiaLectura'][i]=randrange(NUM_FUENTES_TOTATALES)\n",
    "        agente['estrategiaLectura_imp'][i]=random.random()\n",
    "    agente['numeroDiasLecturas']=randrange(2,7)\n",
    "    agente['umbralPronostico']=random.uniform(0.2, 0.5)\n",
    "    agente['porcentajeCapitalCompra']=random.uniform(0, 1)\n",
    "    agente['porcentajeStockVenta']=random.uniform(0, 1)\n",
    "    #agente['costoMauc']  costo del commoditie según bolsa\n",
    "    agente['costosFijos']=random.uniform(0.1, 0.3)\n",
    "    agente['tasaProduccion']=random.uniform(0, 0.5)\n",
    "    agente['limiteSobrePrecio']=random.uniform(0.01, 0.3)\n",
    "    agente['viveza']=random.uniform(0.01, 0.2)\n",
    "    agente['controlGastosEImpuestos']=random.uniform(0.01, 0.1)\n",
    "    return agente"
   ]
  },
  {
   "cell_type": "code",
   "execution_count": 34,
   "id": "f1d0fd4a",
   "metadata": {},
   "outputs": [],
   "source": [
    "def pronosticoAgente(agente):    \n",
    "    reg_inicio=FECHA_PULSO-agente['tamanoRegresion']\n",
    "    rango_reg_agente=[calendario.iloc[reg_inicio]['Date'],calendario.iloc[FECHA_PULSO]['Date']]\n",
    "\n",
    "    serie_indice_agente=datos_trm[datos_trm['date']>=rango_reg_agente[0]]\n",
    "    serie_indice_agente=serie_indice_agente[serie_indice_agente['date']<=rango_reg_agente[1]]\n",
    "\n",
    "    modelo_agente=SimpleExpSmoothing(serie_indice_agente['TRM']).fit(smoothing_level=0.5,optimized=False)\n",
    "    prediccion_base_agente=modelo_agente.forecast()\n",
    "\n",
    "    prediccion_base_agente=prediccion_base_agente.values[0]\n",
    "    df_lecura_agente=pd.DataFrame({'index':agente['estrategiaLectura'] , 'impacto': agente['estrategiaLectura_imp']})\n",
    "\n",
    "    lect_inicio=FECHA_PULSO-agente['numeroDiasLecturas']\n",
    "    rango_lec_agente=[calendario.iloc[lect_inicio]['Date'],calendario.iloc[FECHA_PULSO]['Date']]\n",
    "\n",
    "    serie_lectura_agente=datos_lectura[datos_lectura['date']>=rango_lec_agente[0]]\n",
    "    serie_lectura_agente=serie_lectura_agente[serie_lectura_agente['date']<=rango_lec_agente[1]]\n",
    "    serie_lectura_agente=serie_lectura_agente.merge(df_lecura_agente, left_on='index', right_on='index', how='left')\n",
    "\n",
    "    serie_lectura_agente=serie_lectura_agente[serie_lectura_agente['impacto'].notnull()]\n",
    "    serie_lectura_agente['factor']=serie_lectura_agente['polaridad']*serie_lectura_agente['impacto']\n",
    "    \n",
    "    #agente['pronosticos_dia_siguiente']=prediccion_base_agente*(1+serie_lectura_agente['factor'].mean()*agente['impactoTextos'])\n",
    "    if len(serie_lectura_agente)>0 :\n",
    "        #agente['pronosticos_dia_siguiente']=prediccion_base_agente*(1+serie_lectura_agente['factor'].mean()*agente['impactoTextos'])\n",
    "        pronosticos_dia_siguiente=prediccion_base_agente*(1+serie_lectura_agente['factor'].mean()*agente['impactoTextos'])\n",
    "    else:\n",
    "        #agente['pronosticos_dia_siguiente']=prediccion_base_agente\n",
    "        pronosticos_dia_siguiente=prediccion_base_agente\n",
    "        \n",
    "    return pronosticos_dia_siguiente"
   ]
  },
  {
   "cell_type": "code",
   "execution_count": 35,
   "id": "fa10696f",
   "metadata": {},
   "outputs": [],
   "source": [
    "def activacionComprador(agente):\n",
    "    #cuando\n",
    "    agente['activo']=False\n",
    "    #necesita stock?\n",
    "    val_stock=agente['stockProducto']<agente['umbralStock']\n",
    "    #el cambio del mercado le combiene?  prediccion - valor actual\n",
    "    val_conveniencia=(agente['pronosticos_dia_siguiente'] - VALOR_MOMENTO_INDICE) > agente['umbralPronostico']\n",
    "    #alguna de las 2 situaciones\n",
    "    agente['activo']=val_stock or val_conveniencia\n",
    "    #cuanto comprar\n",
    "    agente['cantidadTransaccionar']=agente['capital']*agente['porcentajeCapitalCompra']\n",
    "    #precio negociacion\n",
    "    agente['precioNegociacion']=(agente['pronosticos_dia_siguiente'] - VALOR_MOMENTO_INDICE)*(1-agente['viveza'])+VALOR_MOMENTO_INDICE\n",
    "    return agente['activo']"
   ]
  },
  {
   "cell_type": "code",
   "execution_count": 36,
   "id": "31c4ba71",
   "metadata": {},
   "outputs": [],
   "source": [
    "def activacionVendedor(agente):\n",
    "    #cuando vender\n",
    "    agente['activo']=False\n",
    "    #necesita stock?\n",
    "    val_stock=agente['stockProducto']>agente['umbralStock']\n",
    "    #el cambio del mercado le combiene?  prediccion - valor actual\n",
    "    val_conveniencia=(VALOR_MOMENTO_INDICE - agente['pronosticos_dia_siguiente'] ) > agente['umbralPronostico']\n",
    "    #alguna de las 2 situaciones\n",
    "    agente['activo']=val_stock or val_conveniencia\n",
    "    #cuanto vender\n",
    "    agente['cantidadTransaccionar']=agente['stockProducto']*agente['porcentajeStockVenta']\n",
    "    #precio negociacion\n",
    "    agente['precioNegociacion']=(agente['pronosticos_dia_siguiente'] - VALOR_MOMENTO_INDICE)*(1-agente['viveza'])+VALOR_MOMENTO_INDICE\n",
    "    return agente['activo']"
   ]
  },
  {
   "cell_type": "code",
   "execution_count": 37,
   "id": "706d66d4",
   "metadata": {},
   "outputs": [],
   "source": [
    "def transaccionarAgente(agenteComprador,agenteVendedor):\n",
    "    #id agentes\n",
    "    idComprador=agenteComprador.get('id')\n",
    "    idVendedor=agenteVendedor.get('id')    \n",
    "    #definir cantidad transaccionar\n",
    "    cantidadRequeridaComprador=agenteComprador['cantidadTransaccionar']\n",
    "    cantidadDisponibleVendedor=agenteVendedor['cantidadTransaccionar']\n",
    "    cantidadTransaccion= cantidadRequeridaComprador if cantidadRequeridaComprador<cantidadDisponibleVendedor else cantidadDisponibleVendedor\n",
    "    #precio transaccion\n",
    "    precioTransaccion=agenteVendedor['precioNegociacion']\n",
    "    #numeroPulsoActual\n",
    "    #FECHA_PULSO\n",
    "    \n",
    "    #Cambio estado agentes\n",
    "    #comprador\n",
    "    agenteComprador['capital']=agenteComprador['capital']-precioTransaccion*cantidadTransaccion\n",
    "    ##sin costo mauc\n",
    "    agenteComprador['stockProducto']=agenteComprador['stockProducto']+cantidadTransaccion\n",
    "    agenteComprador['cantidadTransaccionar']=agenteComprador['cantidadTransaccionar']-cantidadTransaccion\n",
    "    #vendedor\n",
    "    agenteVendedor['capital']=agenteVendedor['capital']+precioTransaccion*cantidadTransaccion\n",
    "    agenteVendedor['stockProducto']=agenteVendedor['stockProducto']-cantidadTransaccion\n",
    "    agenteVendedor['cantidadTransaccionar']=agenteVendedor['cantidadTransaccionar']-cantidadTransaccion\n",
    "    #validar activacion agentes, retornar para acciones\n",
    "    desactivarComprador=agenteComprador['cantidadTransaccionar']==0\n",
    "    desactivarVendedor=agenteVendedor['cantidadTransaccionar']==0\n",
    "    lineaTransaccion=[idComprador,idVendedor,cantidadTransaccion,precioTransaccion,FECHA_PULSO]\n",
    "    #return {'desact_comp':desactivarComprador, 'desact_vend':desactivarVendedor, 'lineaTransaccion':lineaTransaccion}\n",
    "    return [desactivarComprador, desactivarVendedor, lineaTransaccion]"
   ]
  },
  {
   "cell_type": "code",
   "execution_count": 38,
   "id": "a4786e14",
   "metadata": {},
   "outputs": [],
   "source": [
    "def vivirComprador(agente):\n",
    "    #aprovecha unidades\n",
    "    unidadesAprovechadas=agente['habilidadAdministrativa']*agente['stockProducto']\n",
    "    agente['stockProducto']=agente['stockProducto']-unidadesAprovechadas\n",
    "    #tiene gastos\n",
    "    agente['capital']=agente['capital']*(1-agente['controlGastosEImpuestos'])\n",
    "    #recibe capital\n",
    "    precioAprovechamiento=VALOR_MOMENTO_INDICE/(1-agente['rentabilidad'])\n",
    "    agente['capital']=agente['capital']+unidadesAprovechadas*precioAprovechamiento\n",
    "    #reevaluar costos fijos \n",
    "    #aumentar edad\n",
    "    agente['edad']=agente['edad']+1"
   ]
  },
  {
   "cell_type": "code",
   "execution_count": 39,
   "id": "adeb88f4",
   "metadata": {},
   "outputs": [],
   "source": [
    "def vivirVendedor(agente):\n",
    "    #tiene gastos\n",
    "    agente['capital']=agente['capital']*(1-agente['controlGastosEImpuestos'])\n",
    "    #le cuesta producir\n",
    "    agente['capital']=agente['capital']*(1-agente['habilidadAdministrativa'])*agente['tasaProduccion']\n",
    "    #aumenta el stock con lo producido\n",
    "    agente['stockProducto']=agente['stockProducto']+agente['stockProducto']*agente['tasaProduccion']\n",
    "    #aumenta edad\n",
    "    agente['edad']=agente['edad']+1"
   ]
  },
  {
   "cell_type": "markdown",
   "id": "9f39d53a",
   "metadata": {},
   "source": [
    "# Universo"
   ]
  },
  {
   "cell_type": "code",
   "execution_count": 40,
   "id": "50ef5a36",
   "metadata": {},
   "outputs": [],
   "source": [
    "#GENERACION ESPONTANEA UNIVERSO\n",
    "def generacionEspontanea():       \n",
    "    for i in range(POBLACION_INICIAL):\n",
    "        if(random.random()<=CANT_COMPRADORES):\n",
    "            compradores.append(crearAgente(i,'Comprador'))\n",
    "        else:\n",
    "            vendedores.append(crearAgente(i,'Vendedor'))"
   ]
  },
  {
   "cell_type": "code",
   "execution_count": 41,
   "id": "83ea03e6",
   "metadata": {},
   "outputs": [],
   "source": [
    "def quiebraEmpresas():\n",
    "    #quiebraEmpresas    \n",
    "    for comp in compradores:\n",
    "        capiltalEmpresa=comp['capital']\n",
    "        valorStockEmpresa=comp['stockProducto']*VALOR_MOMENTO_INDICE\n",
    "        valorEmpresa=capiltalEmpresa+valorStockEmpresa        \n",
    "        #print(\"COMP capemp:\",capiltalEmpresa,' valemp:',valorEmpresa, ' limQuiebra:',LIMITE_QUIEBRA)\n",
    "        if capiltalEmpresa<LIMITE_QUIEBRA or valorEmpresa<LIMITE_QUIEBRA :\n",
    "            #print(\"entraComp\")\n",
    "            compradores.remove(comp)     \n",
    "            \n",
    "    for vend in vendedores:\n",
    "        capiltalEmpresa=vend['capital']\n",
    "        valorStockEmpresa=vend['stockProducto']*VALOR_MOMENTO_INDICE\n",
    "        valorEmpresa=capiltalEmpresa+valorStockEmpresa        \n",
    "        #print(\"VEND capemp:\",capiltalEmpresa,' valemp:',valorEmpresa, ' limQuiebra:',LIMITE_QUIEBRA)\n",
    "        if capiltalEmpresa<LIMITE_QUIEBRA or valorEmpresa<LIMITE_QUIEBRA :\n",
    "            #print(\"entraVend\")\n",
    "            vendedores.remove(vend)"
   ]
  },
  {
   "cell_type": "code",
   "execution_count": 42,
   "id": "3733c6b7",
   "metadata": {},
   "outputs": [],
   "source": [
    "def nuevosAgentes():\n",
    "    #num_nuevos_agentes=math.floor(random.uniform(0, MAX_GENERACION_AGENTES)*POBLACION_ACTUAL)\n",
    "    num_nuevos_agentes=math.floor(random.uniform(0, MAX_GENERACION_AGENTES)*POBLACION_ACTUAL)\n",
    "    print(\"max_generacion_agentes: \",MAX_GENERACION_AGENTES,\"nuevos Agentes: \", num_nuevos_agentes, \"pob actual: \",POBLACION_ACTUAL, \"pob final: \",POBLACION_ACTUAL+num_nuevos_agentes)\n",
    "    for i in range(POBLACION_ACTUAL,POBLACION_ACTUAL+num_nuevos_agentes):\n",
    "        if(random.random()<=CANT_COMPRADORES):\n",
    "            compradores.append(crearAgente(i,'Comprador'))\n",
    "        else:\n",
    "            vendedores.append(crearAgente(i,'Vendedor'))"
   ]
  },
  {
   "cell_type": "code",
   "execution_count": 43,
   "id": "254cca1e",
   "metadata": {},
   "outputs": [],
   "source": [
    "def pronosticoUniverso():\n",
    "    for comp in compradores:\n",
    "        #print(pronosticoAgente(comp))\n",
    "        comp['pronosticos_dia_siguiente']=pronosticoAgente(comp)\n",
    "    for vend in vendedores:\n",
    "        #print(pronosticoAgente(vend))\n",
    "        vend['pronosticos_dia_siguiente']=pronosticoAgente(vend)"
   ]
  },
  {
   "cell_type": "code",
   "execution_count": 44,
   "id": "666f09ca",
   "metadata": {},
   "outputs": [],
   "source": [
    "def activacionUniverso():\n",
    "    for comp in compradores:\n",
    "        #print(pronosticoAgente(comp))\n",
    "        auxActivacion=activacionComprador(comp)\n",
    "        if auxActivacion:\n",
    "            compradoresActivos.append(comp)\n",
    "    for vend in vendedores:\n",
    "        #print(pronosticoAgente(vend))\n",
    "        auxActivacion=activacionVendedor(vend)\n",
    "        if auxActivacion:\n",
    "            vendedoresActivos.append(vend)"
   ]
  },
  {
   "cell_type": "code",
   "execution_count": 45,
   "id": "7ed2247e",
   "metadata": {},
   "outputs": [],
   "source": [
    "### Función transaccionar\n",
    "def transaccionarUniverso():\n",
    "    random.shuffle(compradoresActivos)\n",
    "    \n",
    "    for comp in compradoresActivos:     \n",
    "        if len(vendedoresActivos)==0:\n",
    "            #print(\"no hay vendedores\")\n",
    "            break\n",
    "\n",
    "        df_ofertas=pd.DataFrame.from_dict(vendedoresActivos).sort_values('precioNegociacion')\n",
    "        mejorVendedor=next(item for item in vendedoresActivos if item['id'] == df_ofertas.iloc[0]['id'])\n",
    "        compradorMomento=comp\n",
    "\n",
    "        precioMaximoCompra=compradorMomento['precioNegociacion']\n",
    "        precioMinimoVenta=mejorVendedor['precioNegociacion']\n",
    "        #selecciona si puede transaccionar\n",
    "        if precioMaximoCompra>precioMinimoVenta:\n",
    "            #print(\"transaccionar\")\n",
    "            #puede desactivar algun vendedor, antes de pasar a las siguientes transacciones\n",
    "            (desactivarComprador, desactivarVendedor, lineaTransaccion)=transaccionarAgente(compradorMomento,mejorVendedor)\n",
    "            #agregar transaccion a arreglo de transacciones con datos principales\n",
    "            if desactivarComprador:\n",
    "                compradoresActivos.remove(compradorMomento)\n",
    "            if desactivarVendedor:\n",
    "                vendedoresActivos.remove(mejorVendedor) \n",
    "            #registra la transacción\n",
    "            DF_TRANSACCIONES.loc[len(DF_TRANSACCIONES)]=lineaTransaccion"
   ]
  },
  {
   "cell_type": "code",
   "execution_count": 46,
   "id": "e641e62a",
   "metadata": {},
   "outputs": [],
   "source": [
    "def vivirUniverso():\n",
    "    for comp in compradores:\n",
    "        vivirComprador(comp)\n",
    "    for vend in vendedores:\n",
    "        vivirVendedor(vend)"
   ]
  },
  {
   "cell_type": "markdown",
   "id": "4cffff44",
   "metadata": {},
   "source": [
    "## Pulso"
   ]
  },
  {
   "cell_type": "code",
   "execution_count": 47,
   "id": "103eeb0a",
   "metadata": {},
   "outputs": [],
   "source": [
    "compradores=[]\n",
    "vendedores=[] "
   ]
  },
  {
   "cell_type": "code",
   "execution_count": 48,
   "id": "7d034cf3",
   "metadata": {},
   "outputs": [],
   "source": [
    "generacionEspontanea()"
   ]
  },
  {
   "cell_type": "code",
   "execution_count": 49,
   "id": "edcc8776",
   "metadata": {
    "scrolled": true
   },
   "outputs": [
    {
     "name": "stdout",
     "output_type": "stream",
     "text": [
      "numCompradores:  73 numVendedores:  27\n"
     ]
    }
   ],
   "source": [
    "print(\"numCompradores: \",len(compradores), \"numVendedores: \",len(vendedores))"
   ]
  },
  {
   "cell_type": "code",
   "execution_count": 50,
   "id": "e18839fa",
   "metadata": {},
   "outputs": [],
   "source": [
    "POBLACION_ACTUAL=len(compradores)+len(vendedores)"
   ]
  },
  {
   "cell_type": "code",
   "execution_count": 51,
   "id": "b17c0576",
   "metadata": {
    "scrolled": true
   },
   "outputs": [],
   "source": [
    "quiebraEmpresas()"
   ]
  },
  {
   "cell_type": "code",
   "execution_count": 52,
   "id": "30f3b06e",
   "metadata": {},
   "outputs": [
    {
     "name": "stdout",
     "output_type": "stream",
     "text": [
      "numCompradores:  72 numVendedores:  26\n"
     ]
    }
   ],
   "source": [
    "print(\"numCompradores: \",len(compradores), \"numVendedores: \",len(vendedores))"
   ]
  },
  {
   "cell_type": "code",
   "execution_count": 53,
   "id": "60b6c33f",
   "metadata": {},
   "outputs": [
    {
     "name": "stdout",
     "output_type": "stream",
     "text": [
      "max_generacion_agentes:  0.2 nuevos Agentes:  13 pob actual:  100 pob final:  113\n"
     ]
    }
   ],
   "source": [
    "nuevosAgentes()"
   ]
  },
  {
   "cell_type": "code",
   "execution_count": 54,
   "id": "f6813103",
   "metadata": {},
   "outputs": [
    {
     "name": "stdout",
     "output_type": "stream",
     "text": [
      "numCompradores:  84 numVendedores:  27\n"
     ]
    }
   ],
   "source": [
    "print(\"numCompradores: \",len(compradores), \"numVendedores: \",len(vendedores))"
   ]
  },
  {
   "cell_type": "code",
   "execution_count": 55,
   "id": "e2487713",
   "metadata": {},
   "outputs": [],
   "source": [
    "pronosticoUniverso()"
   ]
  },
  {
   "cell_type": "code",
   "execution_count": 56,
   "id": "ed0906a4",
   "metadata": {},
   "outputs": [],
   "source": [
    "compradoresActivos=[]\n",
    "vendedoresActivos=[]"
   ]
  },
  {
   "cell_type": "code",
   "execution_count": 57,
   "id": "29b9d74f",
   "metadata": {},
   "outputs": [],
   "source": [
    "activacionUniverso()"
   ]
  },
  {
   "cell_type": "code",
   "execution_count": 58,
   "id": "3f39f78c",
   "metadata": {},
   "outputs": [
    {
     "name": "stdout",
     "output_type": "stream",
     "text": [
      "numCompradoresActivos:  54 numVendedoresActivos:  22\n"
     ]
    }
   ],
   "source": [
    "print(\"numCompradoresActivos: \",len(compradoresActivos), \"numVendedoresActivos: \",len(vendedoresActivos))"
   ]
  },
  {
   "cell_type": "code",
   "execution_count": 59,
   "id": "beb20f40",
   "metadata": {},
   "outputs": [
    {
     "name": "stdout",
     "output_type": "stream",
     "text": [
      "numCompradores:  84 numVendedores:  27\n"
     ]
    }
   ],
   "source": [
    "print(\"numCompradores: \",len(compradores), \"numVendedores: \",len(vendedores))"
   ]
  },
  {
   "cell_type": "code",
   "execution_count": 60,
   "id": "28c7f7aa",
   "metadata": {},
   "outputs": [],
   "source": [
    "transaccionarUniverso()"
   ]
  },
  {
   "cell_type": "code",
   "execution_count": 61,
   "id": "19b57fb3",
   "metadata": {
    "scrolled": true
   },
   "outputs": [
    {
     "data": {
      "text/html": [
       "<div>\n",
       "<style scoped>\n",
       "    .dataframe tbody tr th:only-of-type {\n",
       "        vertical-align: middle;\n",
       "    }\n",
       "\n",
       "    .dataframe tbody tr th {\n",
       "        vertical-align: top;\n",
       "    }\n",
       "\n",
       "    .dataframe thead th {\n",
       "        text-align: right;\n",
       "    }\n",
       "</style>\n",
       "<table border=\"1\" class=\"dataframe\">\n",
       "  <thead>\n",
       "    <tr style=\"text-align: right;\">\n",
       "      <th></th>\n",
       "      <th>idComprador</th>\n",
       "      <th>idVendedor</th>\n",
       "      <th>cantidadTransaccion</th>\n",
       "      <th>precioTransaccion</th>\n",
       "      <th>fechaPulso</th>\n",
       "    </tr>\n",
       "  </thead>\n",
       "  <tbody>\n",
       "    <tr>\n",
       "      <th>0</th>\n",
       "      <td>109.0</td>\n",
       "      <td>58.0</td>\n",
       "      <td>263628.504317</td>\n",
       "      <td>3117.243382</td>\n",
       "      <td>36.0</td>\n",
       "    </tr>\n",
       "    <tr>\n",
       "      <th>1</th>\n",
       "      <td>46.0</td>\n",
       "      <td>48.0</td>\n",
       "      <td>161585.179686</td>\n",
       "      <td>3501.493527</td>\n",
       "      <td>36.0</td>\n",
       "    </tr>\n",
       "    <tr>\n",
       "      <th>2</th>\n",
       "      <td>66.0</td>\n",
       "      <td>108.0</td>\n",
       "      <td>159013.727612</td>\n",
       "      <td>3506.875788</td>\n",
       "      <td>36.0</td>\n",
       "    </tr>\n",
       "    <tr>\n",
       "      <th>3</th>\n",
       "      <td>8.0</td>\n",
       "      <td>59.0</td>\n",
       "      <td>762275.455798</td>\n",
       "      <td>3554.727531</td>\n",
       "      <td>36.0</td>\n",
       "    </tr>\n",
       "    <tr>\n",
       "      <th>4</th>\n",
       "      <td>77.0</td>\n",
       "      <td>35.0</td>\n",
       "      <td>461621.000487</td>\n",
       "      <td>3597.677243</td>\n",
       "      <td>36.0</td>\n",
       "    </tr>\n",
       "    <tr>\n",
       "      <th>5</th>\n",
       "      <td>41.0</td>\n",
       "      <td>13.0</td>\n",
       "      <td>36098.175067</td>\n",
       "      <td>3701.134757</td>\n",
       "      <td>36.0</td>\n",
       "    </tr>\n",
       "    <tr>\n",
       "      <th>6</th>\n",
       "      <td>84.0</td>\n",
       "      <td>72.0</td>\n",
       "      <td>35003.175035</td>\n",
       "      <td>3745.955734</td>\n",
       "      <td>36.0</td>\n",
       "    </tr>\n",
       "    <tr>\n",
       "      <th>7</th>\n",
       "      <td>20.0</td>\n",
       "      <td>90.0</td>\n",
       "      <td>248170.798587</td>\n",
       "      <td>3749.318776</td>\n",
       "      <td>36.0</td>\n",
       "    </tr>\n",
       "    <tr>\n",
       "      <th>8</th>\n",
       "      <td>39.0</td>\n",
       "      <td>26.0</td>\n",
       "      <td>337635.445913</td>\n",
       "      <td>3789.858485</td>\n",
       "      <td>36.0</td>\n",
       "    </tr>\n",
       "    <tr>\n",
       "      <th>9</th>\n",
       "      <td>67.0</td>\n",
       "      <td>4.0</td>\n",
       "      <td>210550.432744</td>\n",
       "      <td>3808.870645</td>\n",
       "      <td>36.0</td>\n",
       "    </tr>\n",
       "    <tr>\n",
       "      <th>10</th>\n",
       "      <td>49.0</td>\n",
       "      <td>69.0</td>\n",
       "      <td>163527.224050</td>\n",
       "      <td>3821.251633</td>\n",
       "      <td>36.0</td>\n",
       "    </tr>\n",
       "    <tr>\n",
       "      <th>11</th>\n",
       "      <td>2.0</td>\n",
       "      <td>5.0</td>\n",
       "      <td>120334.232535</td>\n",
       "      <td>3833.363991</td>\n",
       "      <td>36.0</td>\n",
       "    </tr>\n",
       "    <tr>\n",
       "      <th>12</th>\n",
       "      <td>50.0</td>\n",
       "      <td>79.0</td>\n",
       "      <td>100265.207722</td>\n",
       "      <td>3848.931080</td>\n",
       "      <td>36.0</td>\n",
       "    </tr>\n",
       "    <tr>\n",
       "      <th>13</th>\n",
       "      <td>75.0</td>\n",
       "      <td>54.0</td>\n",
       "      <td>362443.296892</td>\n",
       "      <td>3848.983540</td>\n",
       "      <td>36.0</td>\n",
       "    </tr>\n",
       "    <tr>\n",
       "      <th>14</th>\n",
       "      <td>99.0</td>\n",
       "      <td>55.0</td>\n",
       "      <td>302118.952285</td>\n",
       "      <td>3849.188614</td>\n",
       "      <td>36.0</td>\n",
       "    </tr>\n",
       "    <tr>\n",
       "      <th>15</th>\n",
       "      <td>1.0</td>\n",
       "      <td>43.0</td>\n",
       "      <td>568910.768960</td>\n",
       "      <td>3851.460852</td>\n",
       "      <td>36.0</td>\n",
       "    </tr>\n",
       "    <tr>\n",
       "      <th>16</th>\n",
       "      <td>70.0</td>\n",
       "      <td>21.0</td>\n",
       "      <td>179847.929187</td>\n",
       "      <td>3859.640827</td>\n",
       "      <td>36.0</td>\n",
       "    </tr>\n",
       "    <tr>\n",
       "      <th>17</th>\n",
       "      <td>56.0</td>\n",
       "      <td>65.0</td>\n",
       "      <td>372105.561998</td>\n",
       "      <td>3964.311873</td>\n",
       "      <td>36.0</td>\n",
       "    </tr>\n",
       "    <tr>\n",
       "      <th>18</th>\n",
       "      <td>101.0</td>\n",
       "      <td>92.0</td>\n",
       "      <td>98117.780725</td>\n",
       "      <td>3997.283375</td>\n",
       "      <td>36.0</td>\n",
       "    </tr>\n",
       "    <tr>\n",
       "      <th>19</th>\n",
       "      <td>27.0</td>\n",
       "      <td>94.0</td>\n",
       "      <td>1191.842215</td>\n",
       "      <td>4085.930482</td>\n",
       "      <td>36.0</td>\n",
       "    </tr>\n",
       "    <tr>\n",
       "      <th>20</th>\n",
       "      <td>97.0</td>\n",
       "      <td>53.0</td>\n",
       "      <td>14330.455659</td>\n",
       "      <td>4107.731624</td>\n",
       "      <td>36.0</td>\n",
       "    </tr>\n",
       "    <tr>\n",
       "      <th>21</th>\n",
       "      <td>81.0</td>\n",
       "      <td>62.0</td>\n",
       "      <td>6450.892007</td>\n",
       "      <td>4294.318418</td>\n",
       "      <td>36.0</td>\n",
       "    </tr>\n",
       "  </tbody>\n",
       "</table>\n",
       "</div>"
      ],
      "text/plain": [
       "    idComprador  idVendedor  cantidadTransaccion  precioTransaccion  \\\n",
       "0         109.0        58.0        263628.504317        3117.243382   \n",
       "1          46.0        48.0        161585.179686        3501.493527   \n",
       "2          66.0       108.0        159013.727612        3506.875788   \n",
       "3           8.0        59.0        762275.455798        3554.727531   \n",
       "4          77.0        35.0        461621.000487        3597.677243   \n",
       "5          41.0        13.0         36098.175067        3701.134757   \n",
       "6          84.0        72.0         35003.175035        3745.955734   \n",
       "7          20.0        90.0        248170.798587        3749.318776   \n",
       "8          39.0        26.0        337635.445913        3789.858485   \n",
       "9          67.0         4.0        210550.432744        3808.870645   \n",
       "10         49.0        69.0        163527.224050        3821.251633   \n",
       "11          2.0         5.0        120334.232535        3833.363991   \n",
       "12         50.0        79.0        100265.207722        3848.931080   \n",
       "13         75.0        54.0        362443.296892        3848.983540   \n",
       "14         99.0        55.0        302118.952285        3849.188614   \n",
       "15          1.0        43.0        568910.768960        3851.460852   \n",
       "16         70.0        21.0        179847.929187        3859.640827   \n",
       "17         56.0        65.0        372105.561998        3964.311873   \n",
       "18        101.0        92.0         98117.780725        3997.283375   \n",
       "19         27.0        94.0          1191.842215        4085.930482   \n",
       "20         97.0        53.0         14330.455659        4107.731624   \n",
       "21         81.0        62.0          6450.892007        4294.318418   \n",
       "\n",
       "    fechaPulso  \n",
       "0         36.0  \n",
       "1         36.0  \n",
       "2         36.0  \n",
       "3         36.0  \n",
       "4         36.0  \n",
       "5         36.0  \n",
       "6         36.0  \n",
       "7         36.0  \n",
       "8         36.0  \n",
       "9         36.0  \n",
       "10        36.0  \n",
       "11        36.0  \n",
       "12        36.0  \n",
       "13        36.0  \n",
       "14        36.0  \n",
       "15        36.0  \n",
       "16        36.0  \n",
       "17        36.0  \n",
       "18        36.0  \n",
       "19        36.0  \n",
       "20        36.0  \n",
       "21        36.0  "
      ]
     },
     "execution_count": 61,
     "metadata": {},
     "output_type": "execute_result"
    }
   ],
   "source": [
    "DF_TRANSACCIONES"
   ]
  },
  {
   "cell_type": "code",
   "execution_count": 62,
   "id": "a029d7f2",
   "metadata": {},
   "outputs": [
    {
     "name": "stdout",
     "output_type": "stream",
     "text": [
      "numCompradoresActivos:  54 numVendedoresActivos:  0\n"
     ]
    }
   ],
   "source": [
    "print(\"numCompradoresActivos: \",len(compradoresActivos), \"numVendedoresActivos: \",len(vendedoresActivos))"
   ]
  },
  {
   "cell_type": "code",
   "execution_count": 63,
   "id": "8472b286",
   "metadata": {},
   "outputs": [
    {
     "name": "stdout",
     "output_type": "stream",
     "text": [
      "numCompradores:  84 numVendedores:  27\n"
     ]
    }
   ],
   "source": [
    "print(\"numCompradores: \",len(compradores), \"numVendedores: \",len(vendedores))"
   ]
  },
  {
   "cell_type": "code",
   "execution_count": 64,
   "id": "1c230681",
   "metadata": {},
   "outputs": [],
   "source": [
    "vivirUniverso()"
   ]
  },
  {
   "cell_type": "markdown",
   "id": "e5135025",
   "metadata": {},
   "source": [
    "#### Fin Ciclo"
   ]
  },
  {
   "cell_type": "markdown",
   "id": "2e580107",
   "metadata": {},
   "source": [
    "# CICLO 2"
   ]
  },
  {
   "cell_type": "markdown",
   "id": "d57d735d",
   "metadata": {},
   "source": [
    "# Preparar cambios siguiente ciclo"
   ]
  },
  {
   "cell_type": "code",
   "execution_count": 65,
   "id": "4f4558fb",
   "metadata": {},
   "outputs": [],
   "source": [
    "FECHA_PULSO=FECHA_PULSO+1\n",
    "VALOR_MOMENTO_INDICE=datos_trm[datos_trm['date']<=calendario.iloc[FECHA_PULSO]['Date']].iloc[-1]['TRM']"
   ]
  },
  {
   "cell_type": "code",
   "execution_count": 66,
   "id": "3d6d6f07",
   "metadata": {},
   "outputs": [],
   "source": [
    "POBLACION_ACTUAL=len(compradores)+len(vendedores)"
   ]
  },
  {
   "cell_type": "code",
   "execution_count": 67,
   "id": "47d70882",
   "metadata": {},
   "outputs": [
    {
     "data": {
      "text/plain": [
       "111"
      ]
     },
     "execution_count": 67,
     "metadata": {},
     "output_type": "execute_result"
    }
   ],
   "source": [
    "POBLACION_ACTUAL"
   ]
  },
  {
   "cell_type": "code",
   "execution_count": 68,
   "id": "54119035",
   "metadata": {},
   "outputs": [
    {
     "data": {
      "text/plain": [
       "3846.48"
      ]
     },
     "execution_count": 68,
     "metadata": {},
     "output_type": "execute_result"
    }
   ],
   "source": [
    "VALOR_MOMENTO_INDICE"
   ]
  },
  {
   "cell_type": "code",
   "execution_count": 69,
   "id": "25b0136c",
   "metadata": {},
   "outputs": [
    {
     "name": "stdout",
     "output_type": "stream",
     "text": [
      "max_generacion_agentes:  0.2 nuevos Agentes:  8 pob actual:  107 pob final:  115\n",
      "numCompradores:  87 numVendedores:  28\n",
      "numCompradoresActivos:  68 numVendedoresActivos:  21\n",
      "numCompradoresActivos:  68 numVendedoresActivos:  0\n",
      "numCompradores:  87 numVendedores:  28\n"
     ]
    }
   ],
   "source": [
    "quiebraEmpresas()# capturar información de agentes quebrados\n",
    "POBLACION_ACTUAL=len(compradores)+len(vendedores)\n",
    "nuevosAgentes()\n",
    "print(\"numCompradores: \",len(compradores), \"numVendedores: \",len(vendedores))\n",
    "pronosticoUniverso()\n",
    "compradoresActivos=[]\n",
    "vendedoresActivos=[]\n",
    "activacionUniverso()\n",
    "print(\"numCompradoresActivos: \",len(compradoresActivos), \"numVendedoresActivos: \",len(vendedoresActivos))\n",
    "transaccionarUniverso()\n",
    "print(\"numCompradoresActivos: \",len(compradoresActivos), \"numVendedoresActivos: \",len(vendedoresActivos))\n",
    "vivirUniverso()\n",
    "print(\"numCompradores: \",len(compradores), \"numVendedores: \",len(vendedores))"
   ]
  },
  {
   "cell_type": "code",
   "execution_count": 70,
   "id": "3ef79ee6",
   "metadata": {},
   "outputs": [
    {
     "name": "stdout",
     "output_type": "stream",
     "text": [
      "numCompradores:  87 numVendedores:  28\n"
     ]
    }
   ],
   "source": [
    "print(\"numCompradores: \",len(compradores), \"numVendedores: \",len(vendedores))"
   ]
  },
  {
   "cell_type": "markdown",
   "id": "65aceb34",
   "metadata": {},
   "source": [
    "# CICLOS SIGUIENTES"
   ]
  },
  {
   "cell_type": "code",
   "execution_count": 84,
   "id": "8ba5a860",
   "metadata": {},
   "outputs": [
    {
     "name": "stdout",
     "output_type": "stream",
     "text": [
      "PULSO:  51\n",
      "max_generacion_agentes:  0.2 nuevos Agentes:  28 pob actual:  214 pob final:  242\n",
      "numCompradores:  203 numVendedores:  39\n",
      "numCompradoresActivos:  178 numVendedoresActivos:  31\n",
      "numCompradoresActivos:  177 numVendedoresActivos:  0\n",
      "numCompradores:  203 numVendedores:  39\n"
     ]
    }
   ],
   "source": [
    "FECHA_PULSO=FECHA_PULSO+1\n",
    "VALOR_MOMENTO_INDICE=datos_trm[datos_trm['date']<=calendario.iloc[FECHA_PULSO]['Date']].iloc[-1]['TRM']\n",
    "POBLACION_ACTUAL=len(compradores)+len(vendedores)\n",
    "print(\"PULSO: \",FECHA_PULSO)\n",
    "quiebraEmpresas()# capturar información de agentes quebrados\n",
    "POBLACION_ACTUAL=len(compradores)+len(vendedores)\n",
    "nuevosAgentes()\n",
    "print(\"numCompradores: \",len(compradores), \"numVendedores: \",len(vendedores))\n",
    "pronosticoUniverso()\n",
    "compradoresActivos=[]\n",
    "vendedoresActivos=[]\n",
    "activacionUniverso()\n",
    "print(\"numCompradoresActivos: \",len(compradoresActivos), \"numVendedoresActivos: \",len(vendedoresActivos))\n",
    "transaccionarUniverso()\n",
    "print(\"numCompradoresActivos: \",len(compradoresActivos), \"numVendedoresActivos: \",len(vendedoresActivos))\n",
    "vivirUniverso()\n",
    "print(\"numCompradores: \",len(compradores), \"numVendedores: \",len(vendedores))"
   ]
  },
  {
   "cell_type": "code",
   "execution_count": 85,
   "id": "16f37d64",
   "metadata": {},
   "outputs": [
    {
     "data": {
      "text/html": [
       "<div>\n",
       "<style scoped>\n",
       "    .dataframe tbody tr th:only-of-type {\n",
       "        vertical-align: middle;\n",
       "    }\n",
       "\n",
       "    .dataframe tbody tr th {\n",
       "        vertical-align: top;\n",
       "    }\n",
       "\n",
       "    .dataframe thead th {\n",
       "        text-align: right;\n",
       "    }\n",
       "</style>\n",
       "<table border=\"1\" class=\"dataframe\">\n",
       "  <thead>\n",
       "    <tr style=\"text-align: right;\">\n",
       "      <th></th>\n",
       "      <th>idComprador</th>\n",
       "      <th>idVendedor</th>\n",
       "      <th>cantidadTransaccion</th>\n",
       "      <th>precioTransaccion</th>\n",
       "      <th>fechaPulso</th>\n",
       "    </tr>\n",
       "  </thead>\n",
       "  <tbody>\n",
       "    <tr>\n",
       "      <th>0</th>\n",
       "      <td>109.0</td>\n",
       "      <td>58.0</td>\n",
       "      <td>2.636285e+05</td>\n",
       "      <td>3117.243382</td>\n",
       "      <td>36.0</td>\n",
       "    </tr>\n",
       "    <tr>\n",
       "      <th>1</th>\n",
       "      <td>46.0</td>\n",
       "      <td>48.0</td>\n",
       "      <td>1.615852e+05</td>\n",
       "      <td>3501.493527</td>\n",
       "      <td>36.0</td>\n",
       "    </tr>\n",
       "    <tr>\n",
       "      <th>2</th>\n",
       "      <td>66.0</td>\n",
       "      <td>108.0</td>\n",
       "      <td>1.590137e+05</td>\n",
       "      <td>3506.875788</td>\n",
       "      <td>36.0</td>\n",
       "    </tr>\n",
       "    <tr>\n",
       "      <th>3</th>\n",
       "      <td>8.0</td>\n",
       "      <td>59.0</td>\n",
       "      <td>7.622755e+05</td>\n",
       "      <td>3554.727531</td>\n",
       "      <td>36.0</td>\n",
       "    </tr>\n",
       "    <tr>\n",
       "      <th>4</th>\n",
       "      <td>77.0</td>\n",
       "      <td>35.0</td>\n",
       "      <td>4.616210e+05</td>\n",
       "      <td>3597.677243</td>\n",
       "      <td>36.0</td>\n",
       "    </tr>\n",
       "    <tr>\n",
       "      <th>...</th>\n",
       "      <td>...</td>\n",
       "      <td>...</td>\n",
       "      <td>...</td>\n",
       "      <td>...</td>\n",
       "      <td>...</td>\n",
       "    </tr>\n",
       "    <tr>\n",
       "      <th>356</th>\n",
       "      <td>190.0</td>\n",
       "      <td>94.0</td>\n",
       "      <td>2.015247e+05</td>\n",
       "      <td>3982.940654</td>\n",
       "      <td>51.0</td>\n",
       "    </tr>\n",
       "    <tr>\n",
       "      <th>357</th>\n",
       "      <td>167.0</td>\n",
       "      <td>163.0</td>\n",
       "      <td>2.278747e+05</td>\n",
       "      <td>4053.859871</td>\n",
       "      <td>51.0</td>\n",
       "    </tr>\n",
       "    <tr>\n",
       "      <th>358</th>\n",
       "      <td>134.0</td>\n",
       "      <td>235.0</td>\n",
       "      <td>2.789488e+04</td>\n",
       "      <td>4113.590030</td>\n",
       "      <td>51.0</td>\n",
       "    </tr>\n",
       "    <tr>\n",
       "      <th>359</th>\n",
       "      <td>172.0</td>\n",
       "      <td>138.0</td>\n",
       "      <td>8.078434e+04</td>\n",
       "      <td>4143.711819</td>\n",
       "      <td>51.0</td>\n",
       "    </tr>\n",
       "    <tr>\n",
       "      <th>360</th>\n",
       "      <td>186.0</td>\n",
       "      <td>62.0</td>\n",
       "      <td>2.273100e+06</td>\n",
       "      <td>4533.037389</td>\n",
       "      <td>51.0</td>\n",
       "    </tr>\n",
       "  </tbody>\n",
       "</table>\n",
       "<p>361 rows × 5 columns</p>\n",
       "</div>"
      ],
      "text/plain": [
       "     idComprador  idVendedor  cantidadTransaccion  precioTransaccion  \\\n",
       "0          109.0        58.0         2.636285e+05        3117.243382   \n",
       "1           46.0        48.0         1.615852e+05        3501.493527   \n",
       "2           66.0       108.0         1.590137e+05        3506.875788   \n",
       "3            8.0        59.0         7.622755e+05        3554.727531   \n",
       "4           77.0        35.0         4.616210e+05        3597.677243   \n",
       "..           ...         ...                  ...                ...   \n",
       "356        190.0        94.0         2.015247e+05        3982.940654   \n",
       "357        167.0       163.0         2.278747e+05        4053.859871   \n",
       "358        134.0       235.0         2.789488e+04        4113.590030   \n",
       "359        172.0       138.0         8.078434e+04        4143.711819   \n",
       "360        186.0        62.0         2.273100e+06        4533.037389   \n",
       "\n",
       "     fechaPulso  \n",
       "0          36.0  \n",
       "1          36.0  \n",
       "2          36.0  \n",
       "3          36.0  \n",
       "4          36.0  \n",
       "..          ...  \n",
       "356        51.0  \n",
       "357        51.0  \n",
       "358        51.0  \n",
       "359        51.0  \n",
       "360        51.0  \n",
       "\n",
       "[361 rows x 5 columns]"
      ]
     },
     "execution_count": 85,
     "metadata": {},
     "output_type": "execute_result"
    }
   ],
   "source": [
    "DF_TRANSACCIONES"
   ]
  },
  {
   "cell_type": "code",
   "execution_count": null,
   "id": "ceafa31b",
   "metadata": {},
   "outputs": [],
   "source": []
  }
 ],
 "metadata": {
  "kernelspec": {
   "display_name": "Python 3",
   "language": "python",
   "name": "python3"
  },
  "language_info": {
   "codemirror_mode": {
    "name": "ipython",
    "version": 3
   },
   "file_extension": ".py",
   "mimetype": "text/x-python",
   "name": "python",
   "nbconvert_exporter": "python",
   "pygments_lexer": "ipython3",
   "version": "3.9.0"
  }
 },
 "nbformat": 4,
 "nbformat_minor": 5
}
